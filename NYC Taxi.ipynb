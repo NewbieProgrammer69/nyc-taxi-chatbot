{
 "cells": [
  {
   "cell_type": "code",
   "execution_count": 1,
   "id": "0bfd45a3-3de3-45a2-97d3-8ad9e5475e8d",
   "metadata": {},
   "outputs": [
    {
     "name": "stderr",
     "output_type": "stream",
     "text": [
      "25/03/13 14:13:59 WARN Utils: Your hostname, MacBook-Air-khxng-Chonnipha.local resolves to a loopback address: 127.0.0.1; using 10.135.128.18 instead (on interface en0)\n",
      "25/03/13 14:13:59 WARN Utils: Set SPARK_LOCAL_IP if you need to bind to another address\n",
      "Setting default log level to \"WARN\".\n",
      "To adjust logging level use sc.setLogLevel(newLevel). For SparkR, use setLogLevel(newLevel).\n",
      "25/03/13 14:14:01 WARN NativeCodeLoader: Unable to load native-hadoop library for your platform... using builtin-java classes where applicable\n"
     ]
    },
    {
     "data": {
      "text/plain": [
       "'3.5.5'"
      ]
     },
     "execution_count": 1,
     "metadata": {},
     "output_type": "execute_result"
    }
   ],
   "source": [
    "from pyspark.sql import SparkSession\n",
    "\n",
    "# Start Spark Session\n",
    "spark = SparkSession.builder.appName(\"NYC_Taxi_Project\").getOrCreate()\n",
    "\n",
    "# Check Spark version\n",
    "spark.version\n"
   ]
  },
  {
   "cell_type": "code",
   "execution_count": 2,
   "id": "5e0c52e2-4f06-43fd-9618-6abdfcd0c913",
   "metadata": {},
   "outputs": [
    {
     "name": "stderr",
     "output_type": "stream",
     "text": [
      "                                                                                "
     ]
    },
    {
     "name": "stdout",
     "output_type": "stream",
     "text": [
      "+--------+--------------------+---------------------+---------------+-------------+----------+------------------+------------+------------+------------+-----------+-----+-------+----------+------------+---------------------+------------+--------------------+-----------+\n",
      "|VendorID|tpep_pickup_datetime|tpep_dropoff_datetime|passenger_count|trip_distance|RatecodeID|store_and_fwd_flag|PULocationID|DOLocationID|payment_type|fare_amount|extra|mta_tax|tip_amount|tolls_amount|improvement_surcharge|total_amount|congestion_surcharge|Airport_fee|\n",
      "+--------+--------------------+---------------------+---------------+-------------+----------+------------------+------------+------------+------------+-----------+-----+-------+----------+------------+---------------------+------------+--------------------+-----------+\n",
      "|       2| 2024-02-01 00:04:45|  2024-02-01 00:19:58|              1|         4.39|         1|                 N|          68|         236|           1|       20.5|  1.0|    0.5|      1.28|         0.0|                  1.0|       26.78|                 2.5|        0.0|\n",
      "|       2| 2024-02-01 00:56:31|  2024-02-01 01:10:53|              1|         7.71|         1|                 N|          48|         243|           1|       31.0|  1.0|    0.5|       9.0|         0.0|                  1.0|        45.0|                 2.5|        0.0|\n",
      "|       2| 2024-02-01 00:07:50|  2024-02-01 00:43:12|              2|        28.69|         2|                 N|         132|         261|           2|       70.0|  0.0|    0.5|       0.0|        6.94|                  1.0|       82.69|                 2.5|       1.75|\n",
      "|       1| 2024-02-01 00:01:49|  2024-02-01 00:10:47|              1|          1.1|         1|                 N|         161|         163|           1|        9.3|  3.5|    0.5|      2.85|         0.0|                  1.0|       17.15|                 2.5|        0.0|\n",
      "|       1| 2024-02-01 00:37:35|  2024-02-01 00:51:15|              1|          2.6|         1|                 N|         246|          79|           2|       15.6|  3.5|    0.5|       0.0|         0.0|                  1.0|        20.6|                 2.5|        0.0|\n",
      "|       1| 2024-02-01 00:55:17|  2024-02-01 01:01:53|              1|          0.8|         1|                 N|          79|           4|           1|        7.9|  3.5|    0.5|      2.55|         0.0|                  1.0|       15.45|                 2.5|        0.0|\n",
      "|       2| 2024-02-01 00:04:53|  2024-02-01 00:17:07|              1|         2.76|         1|                 N|         249|         163|           1|       14.2|  1.0|    0.5|      3.84|         0.0|                  1.0|       23.04|                 2.5|        0.0|\n",
      "|       2| 2024-02-01 00:35:00|  2024-02-01 00:43:37|              1|         2.51|         1|                 N|         163|         151|           1|       12.8|  1.0|    0.5|      3.56|         0.0|                  1.0|       21.36|                 2.5|        0.0|\n",
      "|       2| 2024-02-01 00:00:15|  2024-02-01 00:05:07|              1|         1.37|         1|                 N|         246|          48|           2|        7.9|  1.0|    0.5|       0.0|         0.0|                  1.0|        12.9|                 2.5|        0.0|\n",
      "|       2| 2024-02-01 00:25:55|  2024-02-01 00:31:52|              1|         1.59|         1|                 N|         107|         233|           1|        9.3|  1.0|    0.5|      2.86|         0.0|                  1.0|       17.16|                 2.5|        0.0|\n",
      "+--------+--------------------+---------------------+---------------+-------------+----------+------------------+------------+------------+------------+-----------+-----+-------+----------+------------+---------------------+------------+--------------------+-----------+\n",
      "only showing top 10 rows\n",
      "\n"
     ]
    }
   ],
   "source": [
    "df = spark.read.parquet(\"file:///Users/chonnipha/Desktop/3rd year second sem/intern/nyc_taxi_project/data/yellow_tripdata_2024-02.parquet\")\n",
    "\n",
    "# Show first 10 rows\n",
    "df.show(10)\n"
   ]
  },
  {
   "cell_type": "code",
   "execution_count": 3,
   "id": "62d17adb-70d2-44ec-b218-8b48c9c899bf",
   "metadata": {},
   "outputs": [
    {
     "data": {
      "text/html": [
       "<div>\n",
       "<style scoped>\n",
       "    .dataframe tbody tr th:only-of-type {\n",
       "        vertical-align: middle;\n",
       "    }\n",
       "\n",
       "    .dataframe tbody tr th {\n",
       "        vertical-align: top;\n",
       "    }\n",
       "\n",
       "    .dataframe thead th {\n",
       "        text-align: right;\n",
       "    }\n",
       "</style>\n",
       "<table border=\"1\" class=\"dataframe\">\n",
       "  <thead>\n",
       "    <tr style=\"text-align: right;\">\n",
       "      <th></th>\n",
       "      <th>VendorID</th>\n",
       "      <th>tpep_pickup_datetime</th>\n",
       "      <th>tpep_dropoff_datetime</th>\n",
       "      <th>passenger_count</th>\n",
       "      <th>trip_distance</th>\n",
       "      <th>RatecodeID</th>\n",
       "      <th>store_and_fwd_flag</th>\n",
       "      <th>PULocationID</th>\n",
       "      <th>DOLocationID</th>\n",
       "      <th>payment_type</th>\n",
       "      <th>fare_amount</th>\n",
       "      <th>extra</th>\n",
       "      <th>mta_tax</th>\n",
       "      <th>tip_amount</th>\n",
       "      <th>tolls_amount</th>\n",
       "      <th>improvement_surcharge</th>\n",
       "      <th>total_amount</th>\n",
       "      <th>congestion_surcharge</th>\n",
       "      <th>Airport_fee</th>\n",
       "    </tr>\n",
       "  </thead>\n",
       "  <tbody>\n",
       "    <tr>\n",
       "      <th>0</th>\n",
       "      <td>2</td>\n",
       "      <td>2024-02-01 00:04:45</td>\n",
       "      <td>2024-02-01 00:19:58</td>\n",
       "      <td>1</td>\n",
       "      <td>4.39</td>\n",
       "      <td>1</td>\n",
       "      <td>N</td>\n",
       "      <td>68</td>\n",
       "      <td>236</td>\n",
       "      <td>1</td>\n",
       "      <td>20.50</td>\n",
       "      <td>1.0</td>\n",
       "      <td>0.5</td>\n",
       "      <td>1.28</td>\n",
       "      <td>0.00</td>\n",
       "      <td>1.0</td>\n",
       "      <td>26.78</td>\n",
       "      <td>2.5</td>\n",
       "      <td>0.00</td>\n",
       "    </tr>\n",
       "    <tr>\n",
       "      <th>1</th>\n",
       "      <td>2</td>\n",
       "      <td>2024-02-01 00:56:31</td>\n",
       "      <td>2024-02-01 01:10:53</td>\n",
       "      <td>1</td>\n",
       "      <td>7.71</td>\n",
       "      <td>1</td>\n",
       "      <td>N</td>\n",
       "      <td>48</td>\n",
       "      <td>243</td>\n",
       "      <td>1</td>\n",
       "      <td>31.00</td>\n",
       "      <td>1.0</td>\n",
       "      <td>0.5</td>\n",
       "      <td>9.00</td>\n",
       "      <td>0.00</td>\n",
       "      <td>1.0</td>\n",
       "      <td>45.00</td>\n",
       "      <td>2.5</td>\n",
       "      <td>0.00</td>\n",
       "    </tr>\n",
       "    <tr>\n",
       "      <th>2</th>\n",
       "      <td>2</td>\n",
       "      <td>2024-02-01 00:07:50</td>\n",
       "      <td>2024-02-01 00:43:12</td>\n",
       "      <td>2</td>\n",
       "      <td>28.69</td>\n",
       "      <td>2</td>\n",
       "      <td>N</td>\n",
       "      <td>132</td>\n",
       "      <td>261</td>\n",
       "      <td>2</td>\n",
       "      <td>70.00</td>\n",
       "      <td>0.0</td>\n",
       "      <td>0.5</td>\n",
       "      <td>0.00</td>\n",
       "      <td>6.94</td>\n",
       "      <td>1.0</td>\n",
       "      <td>82.69</td>\n",
       "      <td>2.5</td>\n",
       "      <td>1.75</td>\n",
       "    </tr>\n",
       "    <tr>\n",
       "      <th>3</th>\n",
       "      <td>1</td>\n",
       "      <td>2024-02-01 00:01:49</td>\n",
       "      <td>2024-02-01 00:10:47</td>\n",
       "      <td>1</td>\n",
       "      <td>1.10</td>\n",
       "      <td>1</td>\n",
       "      <td>N</td>\n",
       "      <td>161</td>\n",
       "      <td>163</td>\n",
       "      <td>1</td>\n",
       "      <td>9.30</td>\n",
       "      <td>3.5</td>\n",
       "      <td>0.5</td>\n",
       "      <td>2.85</td>\n",
       "      <td>0.00</td>\n",
       "      <td>1.0</td>\n",
       "      <td>17.15</td>\n",
       "      <td>2.5</td>\n",
       "      <td>0.00</td>\n",
       "    </tr>\n",
       "    <tr>\n",
       "      <th>4</th>\n",
       "      <td>1</td>\n",
       "      <td>2024-02-01 00:37:35</td>\n",
       "      <td>2024-02-01 00:51:15</td>\n",
       "      <td>1</td>\n",
       "      <td>2.60</td>\n",
       "      <td>1</td>\n",
       "      <td>N</td>\n",
       "      <td>246</td>\n",
       "      <td>79</td>\n",
       "      <td>2</td>\n",
       "      <td>15.60</td>\n",
       "      <td>3.5</td>\n",
       "      <td>0.5</td>\n",
       "      <td>0.00</td>\n",
       "      <td>0.00</td>\n",
       "      <td>1.0</td>\n",
       "      <td>20.60</td>\n",
       "      <td>2.5</td>\n",
       "      <td>0.00</td>\n",
       "    </tr>\n",
       "    <tr>\n",
       "      <th>...</th>\n",
       "      <td>...</td>\n",
       "      <td>...</td>\n",
       "      <td>...</td>\n",
       "      <td>...</td>\n",
       "      <td>...</td>\n",
       "      <td>...</td>\n",
       "      <td>...</td>\n",
       "      <td>...</td>\n",
       "      <td>...</td>\n",
       "      <td>...</td>\n",
       "      <td>...</td>\n",
       "      <td>...</td>\n",
       "      <td>...</td>\n",
       "      <td>...</td>\n",
       "      <td>...</td>\n",
       "      <td>...</td>\n",
       "      <td>...</td>\n",
       "      <td>...</td>\n",
       "      <td>...</td>\n",
       "    </tr>\n",
       "    <tr>\n",
       "      <th>95</th>\n",
       "      <td>2</td>\n",
       "      <td>2024-02-01 00:10:01</td>\n",
       "      <td>2024-02-01 00:21:10</td>\n",
       "      <td>1</td>\n",
       "      <td>2.70</td>\n",
       "      <td>1</td>\n",
       "      <td>N</td>\n",
       "      <td>263</td>\n",
       "      <td>48</td>\n",
       "      <td>4</td>\n",
       "      <td>-14.90</td>\n",
       "      <td>-1.0</td>\n",
       "      <td>-0.5</td>\n",
       "      <td>0.00</td>\n",
       "      <td>0.00</td>\n",
       "      <td>-1.0</td>\n",
       "      <td>-19.90</td>\n",
       "      <td>-2.5</td>\n",
       "      <td>0.00</td>\n",
       "    </tr>\n",
       "    <tr>\n",
       "      <th>96</th>\n",
       "      <td>2</td>\n",
       "      <td>2024-02-01 00:10:01</td>\n",
       "      <td>2024-02-01 00:21:10</td>\n",
       "      <td>1</td>\n",
       "      <td>2.70</td>\n",
       "      <td>1</td>\n",
       "      <td>N</td>\n",
       "      <td>263</td>\n",
       "      <td>48</td>\n",
       "      <td>4</td>\n",
       "      <td>14.90</td>\n",
       "      <td>1.0</td>\n",
       "      <td>0.5</td>\n",
       "      <td>0.00</td>\n",
       "      <td>0.00</td>\n",
       "      <td>1.0</td>\n",
       "      <td>19.90</td>\n",
       "      <td>2.5</td>\n",
       "      <td>0.00</td>\n",
       "    </tr>\n",
       "    <tr>\n",
       "      <th>97</th>\n",
       "      <td>2</td>\n",
       "      <td>2024-02-01 00:28:54</td>\n",
       "      <td>2024-02-01 00:29:18</td>\n",
       "      <td>1</td>\n",
       "      <td>0.00</td>\n",
       "      <td>5</td>\n",
       "      <td>N</td>\n",
       "      <td>48</td>\n",
       "      <td>48</td>\n",
       "      <td>1</td>\n",
       "      <td>19.99</td>\n",
       "      <td>0.0</td>\n",
       "      <td>0.0</td>\n",
       "      <td>0.00</td>\n",
       "      <td>0.00</td>\n",
       "      <td>1.0</td>\n",
       "      <td>23.49</td>\n",
       "      <td>2.5</td>\n",
       "      <td>0.00</td>\n",
       "    </tr>\n",
       "    <tr>\n",
       "      <th>98</th>\n",
       "      <td>2</td>\n",
       "      <td>2024-02-01 00:38:53</td>\n",
       "      <td>2024-02-01 00:57:31</td>\n",
       "      <td>1</td>\n",
       "      <td>7.49</td>\n",
       "      <td>1</td>\n",
       "      <td>N</td>\n",
       "      <td>229</td>\n",
       "      <td>97</td>\n",
       "      <td>1</td>\n",
       "      <td>32.40</td>\n",
       "      <td>1.0</td>\n",
       "      <td>0.5</td>\n",
       "      <td>7.48</td>\n",
       "      <td>0.00</td>\n",
       "      <td>1.0</td>\n",
       "      <td>44.88</td>\n",
       "      <td>2.5</td>\n",
       "      <td>0.00</td>\n",
       "    </tr>\n",
       "    <tr>\n",
       "      <th>99</th>\n",
       "      <td>2</td>\n",
       "      <td>2024-02-01 00:27:57</td>\n",
       "      <td>2024-02-01 00:43:26</td>\n",
       "      <td>1</td>\n",
       "      <td>3.80</td>\n",
       "      <td>1</td>\n",
       "      <td>N</td>\n",
       "      <td>132</td>\n",
       "      <td>10</td>\n",
       "      <td>1</td>\n",
       "      <td>20.50</td>\n",
       "      <td>1.0</td>\n",
       "      <td>0.5</td>\n",
       "      <td>4.60</td>\n",
       "      <td>0.00</td>\n",
       "      <td>1.0</td>\n",
       "      <td>29.35</td>\n",
       "      <td>0.0</td>\n",
       "      <td>1.75</td>\n",
       "    </tr>\n",
       "  </tbody>\n",
       "</table>\n",
       "<p>100 rows × 19 columns</p>\n",
       "</div>"
      ],
      "text/plain": [
       "    VendorID tpep_pickup_datetime tpep_dropoff_datetime  passenger_count  \\\n",
       "0          2  2024-02-01 00:04:45   2024-02-01 00:19:58                1   \n",
       "1          2  2024-02-01 00:56:31   2024-02-01 01:10:53                1   \n",
       "2          2  2024-02-01 00:07:50   2024-02-01 00:43:12                2   \n",
       "3          1  2024-02-01 00:01:49   2024-02-01 00:10:47                1   \n",
       "4          1  2024-02-01 00:37:35   2024-02-01 00:51:15                1   \n",
       "..       ...                  ...                   ...              ...   \n",
       "95         2  2024-02-01 00:10:01   2024-02-01 00:21:10                1   \n",
       "96         2  2024-02-01 00:10:01   2024-02-01 00:21:10                1   \n",
       "97         2  2024-02-01 00:28:54   2024-02-01 00:29:18                1   \n",
       "98         2  2024-02-01 00:38:53   2024-02-01 00:57:31                1   \n",
       "99         2  2024-02-01 00:27:57   2024-02-01 00:43:26                1   \n",
       "\n",
       "    trip_distance  RatecodeID store_and_fwd_flag  PULocationID  DOLocationID  \\\n",
       "0            4.39           1                  N            68           236   \n",
       "1            7.71           1                  N            48           243   \n",
       "2           28.69           2                  N           132           261   \n",
       "3            1.10           1                  N           161           163   \n",
       "4            2.60           1                  N           246            79   \n",
       "..            ...         ...                ...           ...           ...   \n",
       "95           2.70           1                  N           263            48   \n",
       "96           2.70           1                  N           263            48   \n",
       "97           0.00           5                  N            48            48   \n",
       "98           7.49           1                  N           229            97   \n",
       "99           3.80           1                  N           132            10   \n",
       "\n",
       "    payment_type  fare_amount  extra  mta_tax  tip_amount  tolls_amount  \\\n",
       "0              1        20.50    1.0      0.5        1.28          0.00   \n",
       "1              1        31.00    1.0      0.5        9.00          0.00   \n",
       "2              2        70.00    0.0      0.5        0.00          6.94   \n",
       "3              1         9.30    3.5      0.5        2.85          0.00   \n",
       "4              2        15.60    3.5      0.5        0.00          0.00   \n",
       "..           ...          ...    ...      ...         ...           ...   \n",
       "95             4       -14.90   -1.0     -0.5        0.00          0.00   \n",
       "96             4        14.90    1.0      0.5        0.00          0.00   \n",
       "97             1        19.99    0.0      0.0        0.00          0.00   \n",
       "98             1        32.40    1.0      0.5        7.48          0.00   \n",
       "99             1        20.50    1.0      0.5        4.60          0.00   \n",
       "\n",
       "    improvement_surcharge  total_amount  congestion_surcharge  Airport_fee  \n",
       "0                     1.0         26.78                   2.5         0.00  \n",
       "1                     1.0         45.00                   2.5         0.00  \n",
       "2                     1.0         82.69                   2.5         1.75  \n",
       "3                     1.0         17.15                   2.5         0.00  \n",
       "4                     1.0         20.60                   2.5         0.00  \n",
       "..                    ...           ...                   ...          ...  \n",
       "95                   -1.0        -19.90                  -2.5         0.00  \n",
       "96                    1.0         19.90                   2.5         0.00  \n",
       "97                    1.0         23.49                   2.5         0.00  \n",
       "98                    1.0         44.88                   2.5         0.00  \n",
       "99                    1.0         29.35                   0.0         1.75  \n",
       "\n",
       "[100 rows x 19 columns]"
      ]
     },
     "metadata": {},
     "output_type": "display_data"
    }
   ],
   "source": [
    "import pandas as pd\n",
    "from IPython.display import display\n",
    "\n",
    "# Convert Spark DataFrame to Pandas for better display\n",
    "pandas_df = df.limit(100).toPandas()\n",
    "\n",
    "# Show nicely formatted table\n",
    "display(pandas_df)\n"
   ]
  },
  {
   "cell_type": "code",
   "execution_count": 4,
   "id": "7411b02c-d428-49d0-b7e0-c9223f01ff6e",
   "metadata": {},
   "outputs": [
    {
     "name": "stdout",
     "output_type": "stream",
     "text": [
      "root\n",
      " |-- VendorID: integer (nullable = true)\n",
      " |-- tpep_pickup_datetime: timestamp_ntz (nullable = true)\n",
      " |-- tpep_dropoff_datetime: timestamp_ntz (nullable = true)\n",
      " |-- passenger_count: long (nullable = true)\n",
      " |-- trip_distance: double (nullable = true)\n",
      " |-- RatecodeID: long (nullable = true)\n",
      " |-- store_and_fwd_flag: string (nullable = true)\n",
      " |-- PULocationID: integer (nullable = true)\n",
      " |-- DOLocationID: integer (nullable = true)\n",
      " |-- payment_type: long (nullable = true)\n",
      " |-- fare_amount: double (nullable = true)\n",
      " |-- extra: double (nullable = true)\n",
      " |-- mta_tax: double (nullable = true)\n",
      " |-- tip_amount: double (nullable = true)\n",
      " |-- tolls_amount: double (nullable = true)\n",
      " |-- improvement_surcharge: double (nullable = true)\n",
      " |-- total_amount: double (nullable = true)\n",
      " |-- congestion_surcharge: double (nullable = true)\n",
      " |-- Airport_fee: double (nullable = true)\n",
      "\n"
     ]
    }
   ],
   "source": [
    "df.printSchema()\n"
   ]
  },
  {
   "cell_type": "code",
   "execution_count": 5,
   "id": "631f5b76-bd0b-4f67-80bd-9592f3d29787",
   "metadata": {},
   "outputs": [
    {
     "data": {
      "text/plain": [
       "3007526"
      ]
     },
     "execution_count": 5,
     "metadata": {},
     "output_type": "execute_result"
    }
   ],
   "source": [
    "df.count()\n"
   ]
  },
  {
   "cell_type": "code",
   "execution_count": 6,
   "id": "9e3769b8-a1ee-4493-b81e-567f4b482ff8",
   "metadata": {},
   "outputs": [
    {
     "name": "stderr",
     "output_type": "stream",
     "text": [
      "25/03/12 18:44:40 WARN SparkStringUtils: Truncated the string representation of a plan since it was too large. This behavior can be adjusted by setting 'spark.sql.debug.maxToStringFields'.\n",
      "[Stage 10:>                                                         (0 + 1) / 1]"
     ]
    },
    {
     "name": "stdout",
     "output_type": "stream",
     "text": [
      "+-------+-------------------+------------------+-----------------+------------------+------------------+------------------+------------------+------------------+------------------+------------------+-------------------+------------------+------------------+---------------------+------------------+--------------------+-------------------+\n",
      "|summary|           VendorID|   passenger_count|    trip_distance|        RatecodeID|store_and_fwd_flag|      PULocationID|      DOLocationID|      payment_type|       fare_amount|             extra|            mta_tax|        tip_amount|      tolls_amount|improvement_surcharge|      total_amount|congestion_surcharge|        Airport_fee|\n",
      "+-------+-------------------+------------------+-----------------+------------------+------------------+------------------+------------------+------------------+------------------+------------------+-------------------+------------------+------------------+---------------------+------------------+--------------------+-------------------+\n",
      "|  count|            3007526|           2821916|          3007526|           2821916|           2821916|           3007526|           3007526|           3007526|           3007526|           3007526|            3007526|           3007526|           3007526|              3007526|           3007526|             2821916|            2821916|\n",
      "|   mean|  1.755233371216076|1.3259381214749129|3.860858778943124| 2.115167141757586|              NULL|165.58292330639867|164.49987631029623|1.1358887670464028|18.047294390806698|1.4451079757913978|0.48341585409402943|3.3028424159922958|0.5076045959370205|   0.9753655662494704|26.624413315153987|  2.2664733819149827| 0.1291193642900781|\n",
      "| stddev|0.42994881984038497|0.8324016788080169| 254.673454694914|10.068891527061238|              NULL| 63.96093112356629| 69.29202738863059|0.5904848280256102|18.634542384913132|1.7974591193090663|0.11774804990474085| 3.828110443900039| 2.080807024892541|  0.21908077962893116|22.972283346874264|  0.8133738160438021|0.46872996375265713|\n",
      "|    min|                  1|                 0|              0.0|                 1|                 N|                 1|                 1|                 0|            -999.0|              -7.5|               -0.5|            -140.0|            -58.45|                 -1.0|           -1000.0|                -2.5|              -1.75|\n",
      "|    max|                  2|                 9|        222478.29|                99|                 Y|               265|               265|                 4|            9792.0|             14.25|               5.75|            543.33|             99.99|                  1.0|            9792.0|                 2.5|               1.75|\n",
      "+-------+-------------------+------------------+-----------------+------------------+------------------+------------------+------------------+------------------+------------------+------------------+-------------------+------------------+------------------+---------------------+------------------+--------------------+-------------------+\n",
      "\n"
     ]
    },
    {
     "name": "stderr",
     "output_type": "stream",
     "text": [
      "                                                                                "
     ]
    }
   ],
   "source": [
    "df.describe().show()\n"
   ]
  },
  {
   "cell_type": "code",
   "execution_count": 7,
   "id": "866a4505-9fbd-4aa7-b27d-0fb8b4ca614c",
   "metadata": {},
   "outputs": [
    {
     "name": "stderr",
     "output_type": "stream",
     "text": [
      "                                                                                "
     ]
    },
    {
     "data": {
      "text/html": [
       "<div>\n",
       "<style scoped>\n",
       "    .dataframe tbody tr th:only-of-type {\n",
       "        vertical-align: middle;\n",
       "    }\n",
       "\n",
       "    .dataframe tbody tr th {\n",
       "        vertical-align: top;\n",
       "    }\n",
       "\n",
       "    .dataframe thead th {\n",
       "        text-align: right;\n",
       "    }\n",
       "</style>\n",
       "<table border=\"1\" class=\"dataframe\">\n",
       "  <thead>\n",
       "    <tr style=\"text-align: right;\">\n",
       "      <th></th>\n",
       "      <th>summary</th>\n",
       "      <th>VendorID</th>\n",
       "      <th>passenger_count</th>\n",
       "      <th>trip_distance</th>\n",
       "      <th>RatecodeID</th>\n",
       "      <th>store_and_fwd_flag</th>\n",
       "      <th>PULocationID</th>\n",
       "      <th>DOLocationID</th>\n",
       "      <th>payment_type</th>\n",
       "      <th>fare_amount</th>\n",
       "      <th>extra</th>\n",
       "      <th>mta_tax</th>\n",
       "      <th>tip_amount</th>\n",
       "      <th>tolls_amount</th>\n",
       "      <th>improvement_surcharge</th>\n",
       "      <th>total_amount</th>\n",
       "      <th>congestion_surcharge</th>\n",
       "      <th>Airport_fee</th>\n",
       "    </tr>\n",
       "  </thead>\n",
       "  <tbody>\n",
       "    <tr>\n",
       "      <th>0</th>\n",
       "      <td>count</td>\n",
       "      <td>3007526</td>\n",
       "      <td>2821916</td>\n",
       "      <td>3007526</td>\n",
       "      <td>2821916</td>\n",
       "      <td>2821916</td>\n",
       "      <td>3007526</td>\n",
       "      <td>3007526</td>\n",
       "      <td>3007526</td>\n",
       "      <td>3007526</td>\n",
       "      <td>3007526</td>\n",
       "      <td>3007526</td>\n",
       "      <td>3007526</td>\n",
       "      <td>3007526</td>\n",
       "      <td>3007526</td>\n",
       "      <td>3007526</td>\n",
       "      <td>2821916</td>\n",
       "      <td>2821916</td>\n",
       "    </tr>\n",
       "    <tr>\n",
       "      <th>1</th>\n",
       "      <td>mean</td>\n",
       "      <td>1.755233371216076</td>\n",
       "      <td>1.3259381214749129</td>\n",
       "      <td>3.860858778943124</td>\n",
       "      <td>2.115167141757586</td>\n",
       "      <td>None</td>\n",
       "      <td>165.58292330639867</td>\n",
       "      <td>164.49987631029623</td>\n",
       "      <td>1.1358887670464028</td>\n",
       "      <td>18.047294390806698</td>\n",
       "      <td>1.4451079757913978</td>\n",
       "      <td>0.48341585409402943</td>\n",
       "      <td>3.3028424159922958</td>\n",
       "      <td>0.5076045959370205</td>\n",
       "      <td>0.9753655662494704</td>\n",
       "      <td>26.624413315153987</td>\n",
       "      <td>2.2664733819149827</td>\n",
       "      <td>0.1291193642900781</td>\n",
       "    </tr>\n",
       "    <tr>\n",
       "      <th>2</th>\n",
       "      <td>stddev</td>\n",
       "      <td>0.42994881984038497</td>\n",
       "      <td>0.8324016788080169</td>\n",
       "      <td>254.673454694914</td>\n",
       "      <td>10.068891527061238</td>\n",
       "      <td>None</td>\n",
       "      <td>63.96093112356629</td>\n",
       "      <td>69.29202738863059</td>\n",
       "      <td>0.5904848280256102</td>\n",
       "      <td>18.634542384913132</td>\n",
       "      <td>1.7974591193090663</td>\n",
       "      <td>0.11774804990474085</td>\n",
       "      <td>3.828110443900039</td>\n",
       "      <td>2.080807024892541</td>\n",
       "      <td>0.21908077962893116</td>\n",
       "      <td>22.972283346874264</td>\n",
       "      <td>0.8133738160438021</td>\n",
       "      <td>0.46872996375265713</td>\n",
       "    </tr>\n",
       "    <tr>\n",
       "      <th>3</th>\n",
       "      <td>min</td>\n",
       "      <td>1</td>\n",
       "      <td>0</td>\n",
       "      <td>0.0</td>\n",
       "      <td>1</td>\n",
       "      <td>N</td>\n",
       "      <td>1</td>\n",
       "      <td>1</td>\n",
       "      <td>0</td>\n",
       "      <td>-999.0</td>\n",
       "      <td>-7.5</td>\n",
       "      <td>-0.5</td>\n",
       "      <td>-140.0</td>\n",
       "      <td>-58.45</td>\n",
       "      <td>-1.0</td>\n",
       "      <td>-1000.0</td>\n",
       "      <td>-2.5</td>\n",
       "      <td>-1.75</td>\n",
       "    </tr>\n",
       "    <tr>\n",
       "      <th>4</th>\n",
       "      <td>max</td>\n",
       "      <td>2</td>\n",
       "      <td>9</td>\n",
       "      <td>222478.29</td>\n",
       "      <td>99</td>\n",
       "      <td>Y</td>\n",
       "      <td>265</td>\n",
       "      <td>265</td>\n",
       "      <td>4</td>\n",
       "      <td>9792.0</td>\n",
       "      <td>14.25</td>\n",
       "      <td>5.75</td>\n",
       "      <td>543.33</td>\n",
       "      <td>99.99</td>\n",
       "      <td>1.0</td>\n",
       "      <td>9792.0</td>\n",
       "      <td>2.5</td>\n",
       "      <td>1.75</td>\n",
       "    </tr>\n",
       "  </tbody>\n",
       "</table>\n",
       "</div>"
      ],
      "text/plain": [
       "  summary             VendorID     passenger_count      trip_distance  \\\n",
       "0   count              3007526             2821916            3007526   \n",
       "1    mean    1.755233371216076  1.3259381214749129  3.860858778943124   \n",
       "2  stddev  0.42994881984038497  0.8324016788080169   254.673454694914   \n",
       "3     min                    1                   0                0.0   \n",
       "4     max                    2                   9          222478.29   \n",
       "\n",
       "           RatecodeID store_and_fwd_flag        PULocationID  \\\n",
       "0             2821916            2821916             3007526   \n",
       "1   2.115167141757586               None  165.58292330639867   \n",
       "2  10.068891527061238               None   63.96093112356629   \n",
       "3                   1                  N                   1   \n",
       "4                  99                  Y                 265   \n",
       "\n",
       "         DOLocationID        payment_type         fare_amount  \\\n",
       "0             3007526             3007526             3007526   \n",
       "1  164.49987631029623  1.1358887670464028  18.047294390806698   \n",
       "2   69.29202738863059  0.5904848280256102  18.634542384913132   \n",
       "3                   1                   0              -999.0   \n",
       "4                 265                   4              9792.0   \n",
       "\n",
       "                extra              mta_tax          tip_amount  \\\n",
       "0             3007526              3007526             3007526   \n",
       "1  1.4451079757913978  0.48341585409402943  3.3028424159922958   \n",
       "2  1.7974591193090663  0.11774804990474085   3.828110443900039   \n",
       "3                -7.5                 -0.5              -140.0   \n",
       "4               14.25                 5.75              543.33   \n",
       "\n",
       "         tolls_amount improvement_surcharge        total_amount  \\\n",
       "0             3007526               3007526             3007526   \n",
       "1  0.5076045959370205    0.9753655662494704  26.624413315153987   \n",
       "2   2.080807024892541   0.21908077962893116  22.972283346874264   \n",
       "3              -58.45                  -1.0             -1000.0   \n",
       "4               99.99                   1.0              9792.0   \n",
       "\n",
       "  congestion_surcharge          Airport_fee  \n",
       "0              2821916              2821916  \n",
       "1   2.2664733819149827   0.1291193642900781  \n",
       "2   0.8133738160438021  0.46872996375265713  \n",
       "3                 -2.5                -1.75  \n",
       "4                  2.5                 1.75  "
      ]
     },
     "metadata": {},
     "output_type": "display_data"
    }
   ],
   "source": [
    "import pandas as pd\n",
    "from IPython.display import display\n",
    "\n",
    "# Convert describe() output to Pandas DataFrame\n",
    "pandas_summary = df.describe().toPandas()\n",
    "\n",
    "# Display with nice formatting\n",
    "display(pandas_summary)\n"
   ]
  },
  {
   "cell_type": "code",
   "execution_count": 8,
   "id": "68104a84-0a6c-4a8f-b8c5-53ef6a29987d",
   "metadata": {},
   "outputs": [
    {
     "name": "stdout",
     "output_type": "stream",
     "text": [
      "+--------+--------------------+---------------------+---------------+-------------+----------+------------------+------------+------------+------------+-----------+-----+-------+----------+------------+---------------------+------------+--------------------+-----------+\n",
      "|VendorID|tpep_pickup_datetime|tpep_dropoff_datetime|passenger_count|trip_distance|RatecodeID|store_and_fwd_flag|PULocationID|DOLocationID|payment_type|fare_amount|extra|mta_tax|tip_amount|tolls_amount|improvement_surcharge|total_amount|congestion_surcharge|Airport_fee|\n",
      "+--------+--------------------+---------------------+---------------+-------------+----------+------------------+------------+------------+------------+-----------+-----+-------+----------+------------+---------------------+------------+--------------------+-----------+\n",
      "|   false|               false|                false|          false|        false|     false|             false|       false|       false|       false|      false|false|  false|     false|       false|                false|       false|               false|      false|\n",
      "|   false|               false|                false|          false|        false|     false|             false|       false|       false|       false|      false|false|  false|     false|       false|                false|       false|               false|      false|\n",
      "|   false|               false|                false|          false|        false|     false|             false|       false|       false|       false|      false|false|  false|     false|       false|                false|       false|               false|      false|\n",
      "|   false|               false|                false|          false|        false|     false|             false|       false|       false|       false|      false|false|  false|     false|       false|                false|       false|               false|      false|\n",
      "|   false|               false|                false|          false|        false|     false|             false|       false|       false|       false|      false|false|  false|     false|       false|                false|       false|               false|      false|\n",
      "|   false|               false|                false|          false|        false|     false|             false|       false|       false|       false|      false|false|  false|     false|       false|                false|       false|               false|      false|\n",
      "|   false|               false|                false|          false|        false|     false|             false|       false|       false|       false|      false|false|  false|     false|       false|                false|       false|               false|      false|\n",
      "|   false|               false|                false|          false|        false|     false|             false|       false|       false|       false|      false|false|  false|     false|       false|                false|       false|               false|      false|\n",
      "|   false|               false|                false|          false|        false|     false|             false|       false|       false|       false|      false|false|  false|     false|       false|                false|       false|               false|      false|\n",
      "|   false|               false|                false|          false|        false|     false|             false|       false|       false|       false|      false|false|  false|     false|       false|                false|       false|               false|      false|\n",
      "|   false|               false|                false|          false|        false|     false|             false|       false|       false|       false|      false|false|  false|     false|       false|                false|       false|               false|      false|\n",
      "|   false|               false|                false|          false|        false|     false|             false|       false|       false|       false|      false|false|  false|     false|       false|                false|       false|               false|      false|\n",
      "|   false|               false|                false|          false|        false|     false|             false|       false|       false|       false|      false|false|  false|     false|       false|                false|       false|               false|      false|\n",
      "|   false|               false|                false|          false|        false|     false|             false|       false|       false|       false|      false|false|  false|     false|       false|                false|       false|               false|      false|\n",
      "|   false|               false|                false|          false|        false|     false|             false|       false|       false|       false|      false|false|  false|     false|       false|                false|       false|               false|      false|\n",
      "|   false|               false|                false|          false|        false|     false|             false|       false|       false|       false|      false|false|  false|     false|       false|                false|       false|               false|      false|\n",
      "|   false|               false|                false|          false|        false|     false|             false|       false|       false|       false|      false|false|  false|     false|       false|                false|       false|               false|      false|\n",
      "|   false|               false|                false|          false|        false|     false|             false|       false|       false|       false|      false|false|  false|     false|       false|                false|       false|               false|      false|\n",
      "|   false|               false|                false|          false|        false|     false|             false|       false|       false|       false|      false|false|  false|     false|       false|                false|       false|               false|      false|\n",
      "|   false|               false|                false|          false|        false|     false|             false|       false|       false|       false|      false|false|  false|     false|       false|                false|       false|               false|      false|\n",
      "+--------+--------------------+---------------------+---------------+-------------+----------+------------------+------------+------------+------------+-----------+-----+-------+----------+------------+---------------------+------------+--------------------+-----------+\n",
      "only showing top 20 rows\n",
      "\n"
     ]
    }
   ],
   "source": [
    "from pyspark.sql.functions import col\n",
    "\n",
    "df.select([col(c).isNull().alias(c) for c in df.columns]).show()\n"
   ]
  },
  {
   "cell_type": "code",
   "execution_count": 9,
   "id": "b7af3d44-759f-4260-8968-5c63dc0f7d93",
   "metadata": {},
   "outputs": [
    {
     "name": "stderr",
     "output_type": "stream",
     "text": [
      "                                                                                "
     ]
    },
    {
     "data": {
      "text/html": [
       "<div>\n",
       "<style scoped>\n",
       "    .dataframe tbody tr th:only-of-type {\n",
       "        vertical-align: middle;\n",
       "    }\n",
       "\n",
       "    .dataframe tbody tr th {\n",
       "        vertical-align: top;\n",
       "    }\n",
       "\n",
       "    .dataframe thead th {\n",
       "        text-align: right;\n",
       "    }\n",
       "</style>\n",
       "<table border=\"1\" class=\"dataframe\">\n",
       "  <thead>\n",
       "    <tr style=\"text-align: right;\">\n",
       "      <th></th>\n",
       "      <th>Missing Values</th>\n",
       "    </tr>\n",
       "  </thead>\n",
       "  <tbody>\n",
       "    <tr>\n",
       "      <th>VendorID</th>\n",
       "      <td>0</td>\n",
       "    </tr>\n",
       "    <tr>\n",
       "      <th>tpep_pickup_datetime</th>\n",
       "      <td>0</td>\n",
       "    </tr>\n",
       "    <tr>\n",
       "      <th>tpep_dropoff_datetime</th>\n",
       "      <td>0</td>\n",
       "    </tr>\n",
       "    <tr>\n",
       "      <th>passenger_count</th>\n",
       "      <td>185610</td>\n",
       "    </tr>\n",
       "    <tr>\n",
       "      <th>trip_distance</th>\n",
       "      <td>0</td>\n",
       "    </tr>\n",
       "    <tr>\n",
       "      <th>RatecodeID</th>\n",
       "      <td>185610</td>\n",
       "    </tr>\n",
       "    <tr>\n",
       "      <th>store_and_fwd_flag</th>\n",
       "      <td>185610</td>\n",
       "    </tr>\n",
       "    <tr>\n",
       "      <th>PULocationID</th>\n",
       "      <td>0</td>\n",
       "    </tr>\n",
       "    <tr>\n",
       "      <th>DOLocationID</th>\n",
       "      <td>0</td>\n",
       "    </tr>\n",
       "    <tr>\n",
       "      <th>payment_type</th>\n",
       "      <td>0</td>\n",
       "    </tr>\n",
       "    <tr>\n",
       "      <th>fare_amount</th>\n",
       "      <td>0</td>\n",
       "    </tr>\n",
       "    <tr>\n",
       "      <th>extra</th>\n",
       "      <td>0</td>\n",
       "    </tr>\n",
       "    <tr>\n",
       "      <th>mta_tax</th>\n",
       "      <td>0</td>\n",
       "    </tr>\n",
       "    <tr>\n",
       "      <th>tip_amount</th>\n",
       "      <td>0</td>\n",
       "    </tr>\n",
       "    <tr>\n",
       "      <th>tolls_amount</th>\n",
       "      <td>0</td>\n",
       "    </tr>\n",
       "    <tr>\n",
       "      <th>improvement_surcharge</th>\n",
       "      <td>0</td>\n",
       "    </tr>\n",
       "    <tr>\n",
       "      <th>total_amount</th>\n",
       "      <td>0</td>\n",
       "    </tr>\n",
       "    <tr>\n",
       "      <th>congestion_surcharge</th>\n",
       "      <td>185610</td>\n",
       "    </tr>\n",
       "    <tr>\n",
       "      <th>Airport_fee</th>\n",
       "      <td>185610</td>\n",
       "    </tr>\n",
       "  </tbody>\n",
       "</table>\n",
       "</div>"
      ],
      "text/plain": [
       "                       Missing Values\n",
       "VendorID                            0\n",
       "tpep_pickup_datetime                0\n",
       "tpep_dropoff_datetime               0\n",
       "passenger_count                185610\n",
       "trip_distance                       0\n",
       "RatecodeID                     185610\n",
       "store_and_fwd_flag             185610\n",
       "PULocationID                        0\n",
       "DOLocationID                        0\n",
       "payment_type                        0\n",
       "fare_amount                         0\n",
       "extra                               0\n",
       "mta_tax                             0\n",
       "tip_amount                          0\n",
       "tolls_amount                        0\n",
       "improvement_surcharge               0\n",
       "total_amount                        0\n",
       "congestion_surcharge           185610\n",
       "Airport_fee                    185610"
      ]
     },
     "metadata": {},
     "output_type": "display_data"
    }
   ],
   "source": [
    "import pandas as pd\n",
    "from pyspark.sql.functions import col\n",
    "\n",
    "# Convert PySpark DataFrame to Pandas for better display\n",
    "null_df = df.select([col(c).isNull().alias(c) for c in df.columns]).toPandas()\n",
    "\n",
    "# Count missing values per column\n",
    "null_summary = null_df.sum().to_frame(name=\"Missing Values\")\n",
    "\n",
    "# Display as a clean Pandas table\n",
    "from IPython.display import display\n",
    "display(null_summary)\n"
   ]
  },
  {
   "cell_type": "code",
   "execution_count": 10,
   "id": "52750f8c-c8ab-492b-ba6b-aea3a298e808",
   "metadata": {},
   "outputs": [
    {
     "name": "stdout",
     "output_type": "stream",
     "text": [
      "+--------+--------------------+---------------------+---------------+-------------+----------+------------------+------------+------------+------------+-----------+-----+-------+----------+------------+---------------------+------------+--------------------+-----------+\n",
      "|VendorID|tpep_pickup_datetime|tpep_dropoff_datetime|passenger_count|trip_distance|RatecodeID|store_and_fwd_flag|PULocationID|DOLocationID|payment_type|fare_amount|extra|mta_tax|tip_amount|tolls_amount|improvement_surcharge|total_amount|congestion_surcharge|Airport_fee|\n",
      "+--------+--------------------+---------------------+---------------+-------------+----------+------------------+------------+------------+------------+-----------+-----+-------+----------+------------+---------------------+------------+--------------------+-----------+\n",
      "|       2| 2024-02-01 00:04:45|  2024-02-01 00:19:58|              1|         4.39|         1|                 N|          68|         236|           1|       20.5|  1.0|    0.5|      1.28|         0.0|                  1.0|       26.78|                 2.5|        0.0|\n",
      "|       2| 2024-02-01 00:56:31|  2024-02-01 01:10:53|              1|         7.71|         1|                 N|          48|         243|           1|       31.0|  1.0|    0.5|       9.0|         0.0|                  1.0|        45.0|                 2.5|        0.0|\n",
      "|       2| 2024-02-01 00:07:50|  2024-02-01 00:43:12|              2|        28.69|         2|                 N|         132|         261|           2|       70.0|  0.0|    0.5|       0.0|        6.94|                  1.0|       82.69|                 2.5|       1.75|\n",
      "|       1| 2024-02-01 00:01:49|  2024-02-01 00:10:47|              1|          1.1|         1|                 N|         161|         163|           1|        9.3|  3.5|    0.5|      2.85|         0.0|                  1.0|       17.15|                 2.5|        0.0|\n",
      "|       1| 2024-02-01 00:37:35|  2024-02-01 00:51:15|              1|          2.6|         1|                 N|         246|          79|           2|       15.6|  3.5|    0.5|       0.0|         0.0|                  1.0|        20.6|                 2.5|        0.0|\n",
      "|       1| 2024-02-01 00:55:17|  2024-02-01 01:01:53|              1|          0.8|         1|                 N|          79|           4|           1|        7.9|  3.5|    0.5|      2.55|         0.0|                  1.0|       15.45|                 2.5|        0.0|\n",
      "|       2| 2024-02-01 00:04:53|  2024-02-01 00:17:07|              1|         2.76|         1|                 N|         249|         163|           1|       14.2|  1.0|    0.5|      3.84|         0.0|                  1.0|       23.04|                 2.5|        0.0|\n",
      "|       2| 2024-02-01 00:35:00|  2024-02-01 00:43:37|              1|         2.51|         1|                 N|         163|         151|           1|       12.8|  1.0|    0.5|      3.56|         0.0|                  1.0|       21.36|                 2.5|        0.0|\n",
      "|       2| 2024-02-01 00:00:15|  2024-02-01 00:05:07|              1|         1.37|         1|                 N|         246|          48|           2|        7.9|  1.0|    0.5|       0.0|         0.0|                  1.0|        12.9|                 2.5|        0.0|\n",
      "|       2| 2024-02-01 00:25:55|  2024-02-01 00:31:52|              1|         1.59|         1|                 N|         107|         233|           1|        9.3|  1.0|    0.5|      2.86|         0.0|                  1.0|       17.16|                 2.5|        0.0|\n",
      "|       2| 2024-02-01 00:34:58|  2024-02-01 00:35:16|              1|         0.07|         1|                 N|         170|         170|           2|        3.0|  1.0|    0.5|       0.0|         0.0|                  1.0|         8.0|                 2.5|        0.0|\n",
      "|       2| 2024-02-01 00:06:18|  2024-02-01 00:36:07|              1|         7.28|         1|                 N|         140|          36|           1|       35.2|  1.0|    0.5|       5.0|         0.0|                  1.0|        45.2|                 2.5|        0.0|\n",
      "|       2| 2024-02-01 00:15:29|  2024-02-01 00:17:41|              1|         0.72|         1|                 N|         141|         229|           1|        5.1|  1.0|    0.5|       1.0|         0.0|                  1.0|        11.1|                 2.5|        0.0|\n",
      "|       2| 2024-02-01 00:03:06|  2024-02-01 00:14:21|              1|         5.55|         1|                 N|         239|         244|           3|      -23.3| -1.0|   -0.5|       0.0|         0.0|                 -1.0|       -28.3|                -2.5|        0.0|\n",
      "|       2| 2024-02-01 00:03:06|  2024-02-01 00:14:21|              1|         5.55|         1|                 N|         239|         244|           3|       23.3|  1.0|    0.5|       0.0|         0.0|                  1.0|        28.3|                 2.5|        0.0|\n",
      "|       1| 2024-02-01 00:27:11|  2024-02-01 00:31:07|              1|          1.2|         1|                 N|         231|         113|           1|        7.2|  3.5|    0.5|      3.05|         0.0|                  1.0|       15.25|                 2.5|        0.0|\n",
      "|       1| 2024-02-01 00:58:03|  2024-02-01 01:05:53|              1|          1.2|         1|                 N|          68|         137|           1|        9.3|  3.5|    0.5|      2.85|         0.0|                  1.0|       17.15|                 2.5|        0.0|\n",
      "|       2| 2024-02-01 00:52:10|  2024-02-01 01:00:18|              1|         3.42|         1|                 N|         137|         263|           1|       14.9|  1.0|    0.5|      3.98|         0.0|                  1.0|       23.88|                 2.5|        0.0|\n",
      "|       1| 2024-02-01 00:06:49|  2024-02-01 00:11:54|              1|          1.5|         1|                 N|         236|          75|           1|        7.9|  3.5|    0.5|       2.6|         0.0|                  1.0|        15.5|                 2.5|        0.0|\n",
      "|       1| 2024-02-01 00:51:08|  2024-02-01 01:03:51|              1|          2.1|         1|                 N|         162|          90|           1|       12.1|  3.5|    0.5|       0.0|         0.0|                  1.0|        17.1|                 2.5|        0.0|\n",
      "+--------+--------------------+---------------------+---------------+-------------+----------+------------------+------------+------------+------------+-----------+-----+-------+----------+------------+---------------------+------------+--------------------+-----------+\n",
      "only showing top 20 rows\n",
      "\n"
     ]
    }
   ],
   "source": [
    "df.limit(1000).na.drop().show()\n"
   ]
  },
  {
   "cell_type": "code",
   "execution_count": 11,
   "id": "b9404acf-7193-4886-96c0-9d41940e53a6",
   "metadata": {},
   "outputs": [
    {
     "name": "stdout",
     "output_type": "stream",
     "text": [
      "['VendorID', 'tpep_pickup_datetime', 'tpep_dropoff_datetime', 'passenger_count', 'trip_distance', 'RatecodeID', 'store_and_fwd_flag', 'PULocationID', 'DOLocationID', 'payment_type', 'fare_amount', 'extra', 'mta_tax', 'tip_amount', 'tolls_amount', 'improvement_surcharge', 'total_amount', 'congestion_surcharge', 'Airport_fee']\n"
     ]
    }
   ],
   "source": [
    "print(df.columns)\n"
   ]
  },
  {
   "cell_type": "code",
   "execution_count": 13,
   "id": "ce3ebc65-5e61-43a7-8828-650d3fc28291",
   "metadata": {},
   "outputs": [
    {
     "name": "stdout",
     "output_type": "stream",
     "text": [
      "Requirement already satisfied: geohash2 in /Users/chonnipha/miniconda3/lib/python3.12/site-packages (1.1)\n",
      "Requirement already satisfied: docutils>=0.3 in /Users/chonnipha/miniconda3/lib/python3.12/site-packages (from geohash2) (0.21.2)\n"
     ]
    }
   ],
   "source": [
    "!pip install geohash2\n",
    "\n"
   ]
  },
  {
   "cell_type": "code",
   "execution_count": 15,
   "id": "743a78d3-1ba0-4971-a294-074b5394daa4",
   "metadata": {},
   "outputs": [
    {
     "name": "stdout",
     "output_type": "stream",
     "text": [
      "+--------+--------------------+---------------------+---------------+-------------+----------+------------------+------------+------------+------------+-----------+-----+-------+----------+------------+---------------------+------------+--------------------+-----------+\n",
      "|VendorID|tpep_pickup_datetime|tpep_dropoff_datetime|passenger_count|trip_distance|RatecodeID|store_and_fwd_flag|PULocationID|DOLocationID|payment_type|fare_amount|extra|mta_tax|tip_amount|tolls_amount|improvement_surcharge|total_amount|congestion_surcharge|Airport_fee|\n",
      "+--------+--------------------+---------------------+---------------+-------------+----------+------------------+------------+------------+------------+-----------+-----+-------+----------+------------+---------------------+------------+--------------------+-----------+\n",
      "|       2| 2024-02-01 00:04:45|  2024-02-01 00:19:58|              1|         4.39|         1|                 N|          68|         236|           1|       20.5|  1.0|    0.5|      1.28|         0.0|                  1.0|       26.78|                 2.5|        0.0|\n",
      "|       2| 2024-02-01 00:56:31|  2024-02-01 01:10:53|              1|         7.71|         1|                 N|          48|         243|           1|       31.0|  1.0|    0.5|       9.0|         0.0|                  1.0|        45.0|                 2.5|        0.0|\n",
      "|       2| 2024-02-01 00:07:50|  2024-02-01 00:43:12|              2|        28.69|         2|                 N|         132|         261|           2|       70.0|  0.0|    0.5|       0.0|        6.94|                  1.0|       82.69|                 2.5|       1.75|\n",
      "|       1| 2024-02-01 00:01:49|  2024-02-01 00:10:47|              1|          1.1|         1|                 N|         161|         163|           1|        9.3|  3.5|    0.5|      2.85|         0.0|                  1.0|       17.15|                 2.5|        0.0|\n",
      "|       1| 2024-02-01 00:37:35|  2024-02-01 00:51:15|              1|          2.6|         1|                 N|         246|          79|           2|       15.6|  3.5|    0.5|       0.0|         0.0|                  1.0|        20.6|                 2.5|        0.0|\n",
      "+--------+--------------------+---------------------+---------------+-------------+----------+------------------+------------+------------+------------+-----------+-----+-------+----------+------------+---------------------+------------+--------------------+-----------+\n",
      "only showing top 5 rows\n",
      "\n",
      "['VendorID', 'tpep_pickup_datetime', 'tpep_dropoff_datetime', 'passenger_count', 'trip_distance', 'RatecodeID', 'store_and_fwd_flag', 'PULocationID', 'DOLocationID', 'payment_type', 'fare_amount', 'extra', 'mta_tax', 'tip_amount', 'tolls_amount', 'improvement_surcharge', 'total_amount', 'congestion_surcharge', 'Airport_fee']\n"
     ]
    }
   ],
   "source": [
    "df = spark.read.parquet(\"file:///Users/chonnipha/Desktop/3rd\\\\ year\\\\ second\\\\ sem/intern/nyc_taxi_project/data/yellow_tripdata_2024-02.parquet\")\n",
    "df.show(5)\n",
    "print(df.columns)\n",
    "\n"
   ]
  },
  {
   "cell_type": "code",
   "execution_count": 16,
   "id": "a58373cd-71e5-4193-874b-ef324fc43956",
   "metadata": {},
   "outputs": [
    {
     "name": "stderr",
     "output_type": "stream",
     "text": [
      "                                                                                "
     ]
    },
    {
     "name": "stdout",
     "output_type": "stream",
     "text": [
      "+--------+--------------------+---------------------+---------------+-------------+----------+------------------+------------+------------+------------+-----------+-----+-------+----------+------------+---------------------+------------+--------------------+-----------+----------------+--------------+\n",
      "|VendorID|tpep_pickup_datetime|tpep_dropoff_datetime|passenger_count|trip_distance|RatecodeID|store_and_fwd_flag|PULocationID|DOLocationID|payment_type|fare_amount|extra|mta_tax|tip_amount|tolls_amount|improvement_surcharge|total_amount|congestion_surcharge|Airport_fee|pickup_coords   |dropoff_coords|\n",
      "+--------+--------------------+---------------------+---------------+-------------+----------+------------------+------------+------------+------------+-----------+-----+-------+----------+------------+---------------------+------------+--------------------+-----------+----------------+--------------+\n",
      "|2       |2024-02-01 00:04:45 |2024-02-01 00:19:58  |1              |4.39         |1         |N                 |68          |236         |1           |20.5       |1.0  |0.5    |1.28      |0.0         |1.0                  |26.78       |2.5                 |0.0        |Unknown         |Unknown       |\n",
      "|2       |2024-02-01 00:56:31 |2024-02-01 01:10:53  |1              |7.71         |1         |N                 |48          |243         |1           |31.0       |1.0  |0.5    |9.0       |0.0         |1.0                  |45.0        |2.5                 |0.0        |Unknown         |Unknown       |\n",
      "|2       |2024-02-01 00:07:50 |2024-02-01 00:43:12  |2              |28.69        |2         |N                 |132         |261         |2           |70.0       |0.0  |0.5    |0.0       |6.94        |1.0                  |82.69       |2.5                 |1.75       |40.758, -73.985 |Unknown       |\n",
      "|1       |2024-02-01 00:01:49 |2024-02-01 00:10:47  |1              |1.1          |1         |N                 |161         |163         |1           |9.3        |3.5  |0.5    |2.85      |0.0         |1.0                  |17.15       |2.5                 |0.0        |40.7128, -74.006|Unknown       |\n",
      "|1       |2024-02-01 00:37:35 |2024-02-01 00:51:15  |1              |2.6          |1         |N                 |246         |79          |2           |15.6       |3.5  |0.5    |0.0       |0.0         |1.0                  |20.6        |2.5                 |0.0        |Unknown         |Unknown       |\n",
      "+--------+--------------------+---------------------+---------------+-------------+----------+------------------+------------+------------+------------+-----------+-----+-------+----------+------------+---------------------+------------+--------------------+-----------+----------------+--------------+\n",
      "only showing top 5 rows\n",
      "\n"
     ]
    }
   ],
   "source": [
    "from pyspark.sql.functions import udf\n",
    "from pyspark.sql.types import StringType\n",
    "\n",
    "# Define the mapping of location IDs to coordinates\n",
    "zone_to_coords = {\n",
    "    132: (40.758, -73.985),  # Midtown Manhattan\n",
    "    161: (40.7128, -74.0060), # Financial District\n",
    "    # Add more mappings to cover all PULocationID and DOLocationID values\n",
    "}\n",
    "\n",
    "# Define a function to get coordinates\n",
    "def get_coordinates(location_id):\n",
    "    coords = zone_to_coords.get(location_id, (None, None))\n",
    "    if coords[0] is not None and coords[1] is not None:\n",
    "        return f\"{coords[0]}, {coords[1]}\"  # Format as \"lat, lon\"\n",
    "    return \"Unknown\"\n",
    "\n",
    "# Convert function to Spark UDF\n",
    "get_coordinates_udf = udf(get_coordinates, StringType())\n",
    "\n",
    "# Apply to DataFrame\n",
    "df = df.withColumn(\"pickup_coords\", get_coordinates_udf(df[\"PULocationID\"]))\n",
    "df = df.withColumn(\"dropoff_coords\", get_coordinates_udf(df[\"DOLocationID\"]))\n",
    "\n",
    "df.show(5, truncate=False)  # Show full output\n",
    "\n"
   ]
  },
  {
   "cell_type": "code",
   "execution_count": 17,
   "id": "87e34b86-2b11-49bf-8c66-3da7176f63f8",
   "metadata": {},
   "outputs": [
    {
     "name": "stderr",
     "output_type": "stream",
     "text": [
      "                                                                                "
     ]
    },
    {
     "name": "stdout",
     "output_type": "stream",
     "text": [
      "+------------+\n",
      "|PULocationID|\n",
      "+------------+\n",
      "|         148|\n",
      "|         243|\n",
      "|          31|\n",
      "|         137|\n",
      "|          85|\n",
      "|          65|\n",
      "|         255|\n",
      "|          53|\n",
      "|         133|\n",
      "|          78|\n",
      "|         108|\n",
      "|         155|\n",
      "|         211|\n",
      "|         193|\n",
      "|          34|\n",
      "|         101|\n",
      "|         126|\n",
      "|         115|\n",
      "|          81|\n",
      "|         183|\n",
      "+------------+\n",
      "only showing top 20 rows\n",
      "\n",
      "+------------+\n",
      "|DOLocationID|\n",
      "+------------+\n",
      "|         148|\n",
      "|         243|\n",
      "|          31|\n",
      "|         137|\n",
      "|          85|\n",
      "|         251|\n",
      "|          65|\n",
      "|         255|\n",
      "|          53|\n",
      "|         133|\n",
      "|          78|\n",
      "|         155|\n",
      "|         108|\n",
      "|         211|\n",
      "|         193|\n",
      "|          34|\n",
      "|         101|\n",
      "|         126|\n",
      "|         115|\n",
      "|          81|\n",
      "+------------+\n",
      "only showing top 20 rows\n",
      "\n"
     ]
    }
   ],
   "source": [
    "df.select(\"PULocationID\").distinct().show()\n",
    "df.select(\"DOLocationID\").distinct().show()\n"
   ]
  },
  {
   "cell_type": "code",
   "execution_count": 18,
   "id": "db4c09ed-868a-47f8-956b-f99f1724b55d",
   "metadata": {
    "scrolled": true
   },
   "outputs": [
    {
     "name": "stdout",
     "output_type": "stream",
     "text": [
      "Requirement already satisfied: geohash2 in /Users/chonnipha/miniconda3/lib/python3.12/site-packages (1.1)\n",
      "Requirement already satisfied: docutils>=0.3 in /Users/chonnipha/miniconda3/lib/python3.12/site-packages (from geohash2) (0.21.2)\n"
     ]
    }
   ],
   "source": [
    "!pip install geohash2\n",
    "\n",
    "\n"
   ]
  },
  {
   "cell_type": "code",
   "execution_count": 19,
   "id": "90a7f219-0e53-48a5-ac60-23766a3baae5",
   "metadata": {},
   "outputs": [],
   "source": [
    "import geohash2\n",
    "from pyspark.sql.functions import udf\n",
    "from pyspark.sql.types import StringType\n"
   ]
  },
  {
   "cell_type": "code",
   "execution_count": 20,
   "id": "6e2f6674-1dd3-4df6-b56c-9e8c7bf987f0",
   "metadata": {},
   "outputs": [
    {
     "name": "stdout",
     "output_type": "stream",
     "text": [
      "['VendorID', 'tpep_pickup_datetime', 'tpep_dropoff_datetime', 'passenger_count', 'trip_distance', 'RatecodeID', 'store_and_fwd_flag', 'PULocationID', 'DOLocationID', 'payment_type', 'fare_amount', 'extra', 'mta_tax', 'tip_amount', 'tolls_amount', 'improvement_surcharge', 'total_amount', 'congestion_surcharge', 'Airport_fee', 'pickup_coords', 'dropoff_coords']\n"
     ]
    }
   ],
   "source": [
    "print(df.columns)\n",
    "\n",
    "\n"
   ]
  },
  {
   "cell_type": "code",
   "execution_count": 21,
   "id": "cc3d1d3b-6023-4c10-b567-691e0a539b19",
   "metadata": {
    "scrolled": true
   },
   "outputs": [
    {
     "name": "stdout",
     "output_type": "stream",
     "text": [
      "+--------+--------------------+---------------------+---------------+-------------+----------+------------------+------------+------------+------------+-----------+-----+-------+----------+------------+---------------------+------------+--------------------+-----------+\n",
      "|VendorID|tpep_pickup_datetime|tpep_dropoff_datetime|passenger_count|trip_distance|RatecodeID|store_and_fwd_flag|PULocationID|DOLocationID|payment_type|fare_amount|extra|mta_tax|tip_amount|tolls_amount|improvement_surcharge|total_amount|congestion_surcharge|Airport_fee|\n",
      "+--------+--------------------+---------------------+---------------+-------------+----------+------------------+------------+------------+------------+-----------+-----+-------+----------+------------+---------------------+------------+--------------------+-----------+\n",
      "|       2| 2024-02-01 00:04:45|  2024-02-01 00:19:58|              1|         4.39|         1|                 N|          68|         236|           1|       20.5|  1.0|    0.5|      1.28|         0.0|                  1.0|       26.78|                 2.5|        0.0|\n",
      "|       2| 2024-02-01 00:56:31|  2024-02-01 01:10:53|              1|         7.71|         1|                 N|          48|         243|           1|       31.0|  1.0|    0.5|       9.0|         0.0|                  1.0|        45.0|                 2.5|        0.0|\n",
      "|       2| 2024-02-01 00:07:50|  2024-02-01 00:43:12|              2|        28.69|         2|                 N|         132|         261|           2|       70.0|  0.0|    0.5|       0.0|        6.94|                  1.0|       82.69|                 2.5|       1.75|\n",
      "|       1| 2024-02-01 00:01:49|  2024-02-01 00:10:47|              1|          1.1|         1|                 N|         161|         163|           1|        9.3|  3.5|    0.5|      2.85|         0.0|                  1.0|       17.15|                 2.5|        0.0|\n",
      "|       1| 2024-02-01 00:37:35|  2024-02-01 00:51:15|              1|          2.6|         1|                 N|         246|          79|           2|       15.6|  3.5|    0.5|       0.0|         0.0|                  1.0|        20.6|                 2.5|        0.0|\n",
      "+--------+--------------------+---------------------+---------------+-------------+----------+------------------+------------+------------+------------+-----------+-----+-------+----------+------------+---------------------+------------+--------------------+-----------+\n",
      "only showing top 5 rows\n",
      "\n"
     ]
    }
   ],
   "source": [
    "df = spark.read.parquet(\"file:///Users/chonnipha/Desktop/3rd year second sem/intern/nyc_taxi_project/data/yellow_tripdata_2024-02.parquet\")\n",
    "df.show(5)\n"
   ]
  },
  {
   "cell_type": "code",
   "execution_count": 22,
   "id": "f6995a6d-c5bf-401e-ab3b-bbef771e7b0d",
   "metadata": {},
   "outputs": [
    {
     "name": "stdout",
     "output_type": "stream",
     "text": [
      "Requirement already satisfied: pyspark in /opt/spark-3.5.5-bin-hadoop3/python (3.5.5)\n",
      "Requirement already satisfied: py4j==0.10.9.7 in /Users/chonnipha/miniconda3/lib/python3.12/site-packages (from pyspark) (0.10.9.7)\n"
     ]
    }
   ],
   "source": [
    "!pip install pyspark\n"
   ]
  },
  {
   "cell_type": "code",
   "execution_count": 23,
   "id": "29fc5884-1d7d-403d-9d9e-1b44b4d1f773",
   "metadata": {},
   "outputs": [
    {
     "name": "stdout",
     "output_type": "stream",
     "text": [
      "root\n",
      " |-- VendorID: integer (nullable = true)\n",
      " |-- tpep_pickup_datetime: timestamp_ntz (nullable = true)\n",
      " |-- tpep_dropoff_datetime: timestamp_ntz (nullable = true)\n",
      " |-- passenger_count: long (nullable = true)\n",
      " |-- trip_distance: double (nullable = true)\n",
      " |-- RatecodeID: long (nullable = true)\n",
      " |-- store_and_fwd_flag: string (nullable = true)\n",
      " |-- PULocationID: integer (nullable = true)\n",
      " |-- DOLocationID: integer (nullable = true)\n",
      " |-- payment_type: long (nullable = true)\n",
      " |-- fare_amount: double (nullable = true)\n",
      " |-- extra: double (nullable = true)\n",
      " |-- mta_tax: double (nullable = true)\n",
      " |-- tip_amount: double (nullable = true)\n",
      " |-- tolls_amount: double (nullable = true)\n",
      " |-- improvement_surcharge: double (nullable = true)\n",
      " |-- total_amount: double (nullable = true)\n",
      " |-- congestion_surcharge: double (nullable = true)\n",
      " |-- Airport_fee: double (nullable = true)\n",
      "\n"
     ]
    }
   ],
   "source": [
    "df.printSchema()\n"
   ]
  },
  {
   "cell_type": "code",
   "execution_count": 24,
   "id": "ac3e5056-2799-498b-bad6-70e4b80edca0",
   "metadata": {},
   "outputs": [
    {
     "name": "stdout",
     "output_type": "stream",
     "text": [
      "+--------+--------------------+---------------------+---------------+-------------+----------+------------------+------------+------------+------------+-----------+-----+-------+----------+------------+---------------------+------------+--------------------+-----------+\n",
      "|VendorID|tpep_pickup_datetime|tpep_dropoff_datetime|passenger_count|trip_distance|RatecodeID|store_and_fwd_flag|PULocationID|DOLocationID|payment_type|fare_amount|extra|mta_tax|tip_amount|tolls_amount|improvement_surcharge|total_amount|congestion_surcharge|Airport_fee|\n",
      "+--------+--------------------+---------------------+---------------+-------------+----------+------------------+------------+------------+------------+-----------+-----+-------+----------+------------+---------------------+------------+--------------------+-----------+\n",
      "|2       |2024-02-01 00:04:45 |2024-02-01 00:19:58  |1              |4.39         |1         |N                 |68          |236         |1           |20.5       |1.0  |0.5    |1.28      |0.0         |1.0                  |26.78       |2.5                 |0.0        |\n",
      "|2       |2024-02-01 00:56:31 |2024-02-01 01:10:53  |1              |7.71         |1         |N                 |48          |243         |1           |31.0       |1.0  |0.5    |9.0       |0.0         |1.0                  |45.0        |2.5                 |0.0        |\n",
      "|2       |2024-02-01 00:07:50 |2024-02-01 00:43:12  |2              |28.69        |2         |N                 |132         |261         |2           |70.0       |0.0  |0.5    |0.0       |6.94        |1.0                  |82.69       |2.5                 |1.75       |\n",
      "|1       |2024-02-01 00:01:49 |2024-02-01 00:10:47  |1              |1.1          |1         |N                 |161         |163         |1           |9.3        |3.5  |0.5    |2.85      |0.0         |1.0                  |17.15       |2.5                 |0.0        |\n",
      "|1       |2024-02-01 00:37:35 |2024-02-01 00:51:15  |1              |2.6          |1         |N                 |246         |79          |2           |15.6       |3.5  |0.5    |0.0       |0.0         |1.0                  |20.6        |2.5                 |0.0        |\n",
      "|1       |2024-02-01 00:55:17 |2024-02-01 01:01:53  |1              |0.8          |1         |N                 |79          |4           |1           |7.9        |3.5  |0.5    |2.55      |0.0         |1.0                  |15.45       |2.5                 |0.0        |\n",
      "|2       |2024-02-01 00:04:53 |2024-02-01 00:17:07  |1              |2.76         |1         |N                 |249         |163         |1           |14.2       |1.0  |0.5    |3.84      |0.0         |1.0                  |23.04       |2.5                 |0.0        |\n",
      "|2       |2024-02-01 00:35:00 |2024-02-01 00:43:37  |1              |2.51         |1         |N                 |163         |151         |1           |12.8       |1.0  |0.5    |3.56      |0.0         |1.0                  |21.36       |2.5                 |0.0        |\n",
      "|2       |2024-02-01 00:00:15 |2024-02-01 00:05:07  |1              |1.37         |1         |N                 |246         |48          |2           |7.9        |1.0  |0.5    |0.0       |0.0         |1.0                  |12.9        |2.5                 |0.0        |\n",
      "|2       |2024-02-01 00:25:55 |2024-02-01 00:31:52  |1              |1.59         |1         |N                 |107         |233         |1           |9.3        |1.0  |0.5    |2.86      |0.0         |1.0                  |17.16       |2.5                 |0.0        |\n",
      "+--------+--------------------+---------------------+---------------+-------------+----------+------------------+------------+------------+------------+-----------+-----+-------+----------+------------+---------------------+------------+--------------------+-----------+\n",
      "only showing top 10 rows\n",
      "\n"
     ]
    }
   ],
   "source": [
    "df.show(10, truncate=False)  # Show 10 rows without cutting off long text\n"
   ]
  },
  {
   "cell_type": "code",
   "execution_count": 25,
   "id": "56178872-3d3d-4859-afbc-bbc5ed1b656b",
   "metadata": {},
   "outputs": [
    {
     "name": "stdout",
     "output_type": "stream",
     "text": [
      "Requirement already satisfied: geopandas in /Users/chonnipha/miniconda3/lib/python3.12/site-packages (1.0.1)\n",
      "Requirement already satisfied: shapely in /Users/chonnipha/miniconda3/lib/python3.12/site-packages (2.0.7)\n",
      "Requirement already satisfied: numpy>=1.22 in /Users/chonnipha/miniconda3/lib/python3.12/site-packages (from geopandas) (2.1.3)\n",
      "Requirement already satisfied: pyogrio>=0.7.2 in /Users/chonnipha/miniconda3/lib/python3.12/site-packages (from geopandas) (0.10.0)\n",
      "Requirement already satisfied: packaging in /Users/chonnipha/miniconda3/lib/python3.12/site-packages (from geopandas) (24.1)\n",
      "Requirement already satisfied: pandas>=1.4.0 in /Users/chonnipha/miniconda3/lib/python3.12/site-packages (from geopandas) (2.2.3)\n",
      "Requirement already satisfied: pyproj>=3.3.0 in /Users/chonnipha/miniconda3/lib/python3.12/site-packages (from geopandas) (3.7.1)\n",
      "Requirement already satisfied: python-dateutil>=2.8.2 in /Users/chonnipha/miniconda3/lib/python3.12/site-packages (from pandas>=1.4.0->geopandas) (2.9.0.post0)\n",
      "Requirement already satisfied: pytz>=2020.1 in /Users/chonnipha/miniconda3/lib/python3.12/site-packages (from pandas>=1.4.0->geopandas) (2024.1)\n",
      "Requirement already satisfied: tzdata>=2022.7 in /Users/chonnipha/miniconda3/lib/python3.12/site-packages (from pandas>=1.4.0->geopandas) (2025.1)\n",
      "Requirement already satisfied: certifi in /Users/chonnipha/miniconda3/lib/python3.12/site-packages (from pyogrio>=0.7.2->geopandas) (2024.12.14)\n",
      "Requirement already satisfied: six>=1.5 in /Users/chonnipha/miniconda3/lib/python3.12/site-packages (from python-dateutil>=2.8.2->pandas>=1.4.0->geopandas) (1.16.0)\n"
     ]
    }
   ],
   "source": [
    "!pip install geopandas shapely\n"
   ]
  },
  {
   "cell_type": "code",
   "execution_count": 26,
   "id": "ceb3e8be-3b81-428f-b280-50020954a58b",
   "metadata": {},
   "outputs": [
    {
     "name": "stdout",
     "output_type": "stream",
     "text": [
      "mv: /Users/chonnipha/Downloads/taxi_zone_lookup.csv: No such file or directory\n",
      "mv: /Users/chonnipha/Downloads/taxi_zones.geojson: No such file or directory\n"
     ]
    }
   ],
   "source": [
    "!mv ~/Downloads/taxi_zone_lookup.csv ~/nyc_taxi_project/\n",
    "!mv ~/Downloads/taxi_zones.geojson ~/nyc_taxi_project/\n"
   ]
  },
  {
   "cell_type": "code",
   "execution_count": 28,
   "id": "b5273187-25df-4be1-869c-59f0ffd51769",
   "metadata": {},
   "outputs": [
    {
     "data": {
      "text/html": [
       "<div>\n",
       "<style scoped>\n",
       "    .dataframe tbody tr th:only-of-type {\n",
       "        vertical-align: middle;\n",
       "    }\n",
       "\n",
       "    .dataframe tbody tr th {\n",
       "        vertical-align: top;\n",
       "    }\n",
       "\n",
       "    .dataframe thead th {\n",
       "        text-align: right;\n",
       "    }\n",
       "</style>\n",
       "<table border=\"1\" class=\"dataframe\">\n",
       "  <thead>\n",
       "    <tr style=\"text-align: right;\">\n",
       "      <th></th>\n",
       "      <th>shape_area</th>\n",
       "      <th>objectid</th>\n",
       "      <th>shape_leng</th>\n",
       "      <th>location_id</th>\n",
       "      <th>zone</th>\n",
       "      <th>borough</th>\n",
       "      <th>geometry</th>\n",
       "    </tr>\n",
       "  </thead>\n",
       "  <tbody>\n",
       "    <tr>\n",
       "      <th>0</th>\n",
       "      <td>0.0007823067885</td>\n",
       "      <td>1</td>\n",
       "      <td>0.116357453189</td>\n",
       "      <td>1</td>\n",
       "      <td>Newark Airport</td>\n",
       "      <td>EWR</td>\n",
       "      <td>MULTIPOLYGON (((-74.18445 40.695, -74.18449 40...</td>\n",
       "    </tr>\n",
       "    <tr>\n",
       "      <th>1</th>\n",
       "      <td>0.00486634037837</td>\n",
       "      <td>2</td>\n",
       "      <td>0.43346966679</td>\n",
       "      <td>2</td>\n",
       "      <td>Jamaica Bay</td>\n",
       "      <td>Queens</td>\n",
       "      <td>MULTIPOLYGON (((-73.82338 40.63899, -73.82277 ...</td>\n",
       "    </tr>\n",
       "    <tr>\n",
       "      <th>2</th>\n",
       "      <td>0.000314414156821</td>\n",
       "      <td>3</td>\n",
       "      <td>0.0843411059012</td>\n",
       "      <td>3</td>\n",
       "      <td>Allerton/Pelham Gardens</td>\n",
       "      <td>Bronx</td>\n",
       "      <td>MULTIPOLYGON (((-73.84793 40.87134, -73.84725 ...</td>\n",
       "    </tr>\n",
       "    <tr>\n",
       "      <th>3</th>\n",
       "      <td>0.000111871946192</td>\n",
       "      <td>4</td>\n",
       "      <td>0.0435665270921</td>\n",
       "      <td>4</td>\n",
       "      <td>Alphabet City</td>\n",
       "      <td>Manhattan</td>\n",
       "      <td>MULTIPOLYGON (((-73.97177 40.72582, -73.97179 ...</td>\n",
       "    </tr>\n",
       "    <tr>\n",
       "      <th>4</th>\n",
       "      <td>0.000497957489363</td>\n",
       "      <td>5</td>\n",
       "      <td>0.0921464898574</td>\n",
       "      <td>5</td>\n",
       "      <td>Arden Heights</td>\n",
       "      <td>Staten Island</td>\n",
       "      <td>MULTIPOLYGON (((-74.17422 40.56257, -74.17349 ...</td>\n",
       "    </tr>\n",
       "  </tbody>\n",
       "</table>\n",
       "</div>"
      ],
      "text/plain": [
       "          shape_area objectid       shape_leng location_id  \\\n",
       "0    0.0007823067885        1   0.116357453189           1   \n",
       "1   0.00486634037837        2    0.43346966679           2   \n",
       "2  0.000314414156821        3  0.0843411059012           3   \n",
       "3  0.000111871946192        4  0.0435665270921           4   \n",
       "4  0.000497957489363        5  0.0921464898574           5   \n",
       "\n",
       "                      zone        borough  \\\n",
       "0           Newark Airport            EWR   \n",
       "1              Jamaica Bay         Queens   \n",
       "2  Allerton/Pelham Gardens          Bronx   \n",
       "3            Alphabet City      Manhattan   \n",
       "4            Arden Heights  Staten Island   \n",
       "\n",
       "                                            geometry  \n",
       "0  MULTIPOLYGON (((-74.18445 40.695, -74.18449 40...  \n",
       "1  MULTIPOLYGON (((-73.82338 40.63899, -73.82277 ...  \n",
       "2  MULTIPOLYGON (((-73.84793 40.87134, -73.84725 ...  \n",
       "3  MULTIPOLYGON (((-73.97177 40.72582, -73.97179 ...  \n",
       "4  MULTIPOLYGON (((-74.17422 40.56257, -74.17349 ...  "
      ]
     },
     "execution_count": 28,
     "metadata": {},
     "output_type": "execute_result"
    }
   ],
   "source": [
    "import geopandas as gpd\n",
    "\n",
    "# Load GeoJSON file\n",
    "taxi_zones = gpd.read_file(\"~/nyc_taxi_project/taxi_zones.geojson\")\n",
    "\n",
    "# Display first 5 rows\n",
    "taxi_zones.head()\n"
   ]
  },
  {
   "cell_type": "code",
   "execution_count": 29,
   "id": "d1ebcedc-e717-4f67-95c2-d7767dee6bd4",
   "metadata": {},
   "outputs": [
    {
     "name": "stdout",
     "output_type": "stream",
     "text": [
      "Download complete! ✅\n"
     ]
    }
   ],
   "source": [
    "import requests\n",
    "\n",
    "url = \"https://s3.amazonaws.com/nyc-tlc/misc/taxi+_zone_lookup.csv\"\n",
    "response = requests.get(url)\n",
    "\n",
    "# Save the file\n",
    "with open(\"taxi_zone_lookup.csv\", \"wb\") as file:\n",
    "    file.write(response.content)\n",
    "\n",
    "print(\"Download complete! ✅\")\n",
    "\n",
    "\n"
   ]
  },
  {
   "cell_type": "code",
   "execution_count": 30,
   "id": "e6b4c95b-db0f-4173-91b3-e0a1a2edacd4",
   "metadata": {},
   "outputs": [
    {
     "name": "stdout",
     "output_type": "stream",
     "text": [
      "File exists: True\n"
     ]
    }
   ],
   "source": [
    "import os\n",
    "\n",
    "# Check if the file exists\n",
    "print(\"File exists:\", os.path.exists(\"taxi_zone_lookup.csv\"))\n",
    "\n",
    "\n",
    "\n"
   ]
  },
  {
   "cell_type": "code",
   "execution_count": 31,
   "id": "9e6abb5e-5d75-40ea-97a2-9ba933fd7699",
   "metadata": {},
   "outputs": [
    {
     "name": "stdout",
     "output_type": "stream",
     "text": [
      "/Users/chonnipha/nyc_taxi_project\n",
      "['etl.py', 'zeppelin-0.10.1-bin-all.tgz', 'Untitled.ipynb', 'taxi_zones.geojson', 'taxi_zone_lookup.csv', 'nyc_taxi_env', '.ipynb_checkpoints', 'load_data.py', 'data']\n"
     ]
    }
   ],
   "source": [
    "import os\n",
    "print(os.getcwd())  # Get current working directory\n",
    "print(os.listdir())  # List files in the current directory\n",
    "\n"
   ]
  },
  {
   "cell_type": "code",
   "execution_count": 32,
   "id": "637c0087-20ee-4416-9f50-3257cc557509",
   "metadata": {},
   "outputs": [
    {
     "name": "stdout",
     "output_type": "stream",
     "text": [
      "Requirement already satisfied: geopandas in /Users/chonnipha/miniconda3/lib/python3.12/site-packages (1.0.1)\n",
      "Requirement already satisfied: shapely in /Users/chonnipha/miniconda3/lib/python3.12/site-packages (2.0.7)\n",
      "Requirement already satisfied: numpy>=1.22 in /Users/chonnipha/miniconda3/lib/python3.12/site-packages (from geopandas) (2.1.3)\n",
      "Requirement already satisfied: pyogrio>=0.7.2 in /Users/chonnipha/miniconda3/lib/python3.12/site-packages (from geopandas) (0.10.0)\n",
      "Requirement already satisfied: packaging in /Users/chonnipha/miniconda3/lib/python3.12/site-packages (from geopandas) (24.1)\n",
      "Requirement already satisfied: pandas>=1.4.0 in /Users/chonnipha/miniconda3/lib/python3.12/site-packages (from geopandas) (2.2.3)\n",
      "Requirement already satisfied: pyproj>=3.3.0 in /Users/chonnipha/miniconda3/lib/python3.12/site-packages (from geopandas) (3.7.1)\n",
      "Requirement already satisfied: python-dateutil>=2.8.2 in /Users/chonnipha/miniconda3/lib/python3.12/site-packages (from pandas>=1.4.0->geopandas) (2.9.0.post0)\n",
      "Requirement already satisfied: pytz>=2020.1 in /Users/chonnipha/miniconda3/lib/python3.12/site-packages (from pandas>=1.4.0->geopandas) (2024.1)\n",
      "Requirement already satisfied: tzdata>=2022.7 in /Users/chonnipha/miniconda3/lib/python3.12/site-packages (from pandas>=1.4.0->geopandas) (2025.1)\n",
      "Requirement already satisfied: certifi in /Users/chonnipha/miniconda3/lib/python3.12/site-packages (from pyogrio>=0.7.2->geopandas) (2024.12.14)\n",
      "Requirement already satisfied: six>=1.5 in /Users/chonnipha/miniconda3/lib/python3.12/site-packages (from python-dateutil>=2.8.2->pandas>=1.4.0->geopandas) (1.16.0)\n"
     ]
    }
   ],
   "source": [
    "!pip install geopandas shapely\n",
    "\n",
    "\n"
   ]
  },
  {
   "cell_type": "code",
   "execution_count": 33,
   "id": "3c4a7710-3aae-4516-bd71-e5119b4d6222",
   "metadata": {},
   "outputs": [
    {
     "name": "stdout",
     "output_type": "stream",
     "text": [
      "          shape_area objectid       shape_leng location_id  \\\n",
      "0    0.0007823067885        1   0.116357453189           1   \n",
      "1   0.00486634037837        2    0.43346966679           2   \n",
      "2  0.000314414156821        3  0.0843411059012           3   \n",
      "3  0.000111871946192        4  0.0435665270921           4   \n",
      "4  0.000497957489363        5  0.0921464898574           5   \n",
      "\n",
      "                      zone        borough  \\\n",
      "0           Newark Airport            EWR   \n",
      "1              Jamaica Bay         Queens   \n",
      "2  Allerton/Pelham Gardens          Bronx   \n",
      "3            Alphabet City      Manhattan   \n",
      "4            Arden Heights  Staten Island   \n",
      "\n",
      "                                            geometry  \n",
      "0  MULTIPOLYGON (((-74.18445 40.695, -74.18449 40...  \n",
      "1  MULTIPOLYGON (((-73.82338 40.63899, -73.82277 ...  \n",
      "2  MULTIPOLYGON (((-73.84793 40.87134, -73.84725 ...  \n",
      "3  MULTIPOLYGON (((-73.97177 40.72582, -73.97179 ...  \n",
      "4  MULTIPOLYGON (((-74.17422 40.56257, -74.17349 ...  \n"
     ]
    }
   ],
   "source": [
    "import geopandas as gpd\n",
    "\n",
    "# Load NYC taxi zone geometries\n",
    "taxi_zones = gpd.read_file(\"taxi_zones.geojson\")\n",
    "taxi_zones = taxi_zones.to_crs(\"EPSG:4326\")  # Convert to lat/lon if needed\n",
    "\n",
    "print(taxi_zones.head())\n",
    "\n"
   ]
  },
  {
   "cell_type": "code",
   "execution_count": 34,
   "id": "00f19ddb-c046-4c6b-9ce1-ba15cdc7b273",
   "metadata": {},
   "outputs": [
    {
     "name": "stdout",
     "output_type": "stream",
     "text": [
      "          shape_area objectid       shape_leng location_id  \\\n",
      "0    0.0007823067885        1   0.116357453189           1   \n",
      "1   0.00486634037837        2    0.43346966679           2   \n",
      "2  0.000314414156821        3  0.0843411059012           3   \n",
      "3  0.000111871946192        4  0.0435665270921           4   \n",
      "4  0.000497957489363        5  0.0921464898574           5   \n",
      "\n",
      "                      zone        borough  \\\n",
      "0           Newark Airport            EWR   \n",
      "1              Jamaica Bay         Queens   \n",
      "2  Allerton/Pelham Gardens          Bronx   \n",
      "3            Alphabet City      Manhattan   \n",
      "4            Arden Heights  Staten Island   \n",
      "\n",
      "                                            geometry  \n",
      "0  MULTIPOLYGON (((-74.18445 40.695, -74.18449 40...  \n",
      "1  MULTIPOLYGON (((-73.82338 40.63899, -73.82277 ...  \n",
      "2  MULTIPOLYGON (((-73.84793 40.87134, -73.84725 ...  \n",
      "3  MULTIPOLYGON (((-73.97177 40.72582, -73.97179 ...  \n",
      "4  MULTIPOLYGON (((-74.17422 40.56257, -74.17349 ...  \n"
     ]
    }
   ],
   "source": [
    "import geopandas as gpd\n",
    "\n",
    "# Load NYC taxi zone geometries from the geojson file\n",
    "taxi_zones = gpd.read_file(\"taxi_zones.geojson\")\n",
    "\n",
    "# Convert to latitude/longitude coordinate system if necessary\n",
    "taxi_zones = taxi_zones.to_crs(\"EPSG:4326\")  \n",
    "\n",
    "# Check the first few rows\n",
    "print(taxi_zones.head())\n",
    "\n"
   ]
  },
  {
   "cell_type": "code",
   "execution_count": 35,
   "id": "75f86aa7-4061-484f-bc63-2110ed927359",
   "metadata": {},
   "outputs": [],
   "source": [
    "from shapely.geometry import Point\n",
    "\n",
    "# Function to find the nearest taxi zone for a given coordinate\n",
    "def find_nearest_zone(lat, lon):\n",
    "    point = Point(lon, lat)  # Note: Shapely expects (longitude, latitude)\n",
    "    nearest_zone = taxi_zones.geometry.distance(point).idxmin()\n",
    "    return taxi_zones.loc[nearest_zone, \"zone\"]  # Return the closest zone name\n"
   ]
  },
  {
   "cell_type": "code",
   "execution_count": 36,
   "id": "6e298c18-ccfd-4fe0-a435-c681be6ba71a",
   "metadata": {},
   "outputs": [
    {
     "name": "stdout",
     "output_type": "stream",
     "text": [
      "Requirement already satisfied: rtree in /Users/chonnipha/miniconda3/lib/python3.12/site-packages (1.4.0)\n"
     ]
    }
   ],
   "source": [
    "!pip install rtree\n"
   ]
  },
  {
   "cell_type": "code",
   "execution_count": 38,
   "id": "9cd1810a-c1a5-4531-bf4e-d10c370b6b77",
   "metadata": {},
   "outputs": [
    {
     "name": "stdout",
     "output_type": "stream",
     "text": [
      "              <?xml version=\"1.0\" encoding=\"UTF-8\"?>\n",
      "0  <Error><Code>AccessDenied</Code><Message>Acces...\n"
     ]
    }
   ],
   "source": [
    "import pandas as pd\n",
    "\n",
    "# Load Taxi Zone Lookup CSV\n",
    "zone_lookup = pd.read_csv(\"~/nyc_taxi_project/taxi_zone_lookup.csv\")\n",
    "\n",
    "# Show first 5 rows to confirm it's loaded\n",
    "print(zone_lookup.head())\n",
    "\n",
    "\n"
   ]
  },
  {
   "cell_type": "code",
   "execution_count": 39,
   "id": "b80fbe61-3544-41e6-bad1-346e6a36fdb2",
   "metadata": {},
   "outputs": [
    {
     "name": "stdout",
     "output_type": "stream",
     "text": [
      "          shape_area objectid       shape_leng location_id  \\\n",
      "0    0.0007823067885        1   0.116357453189           1   \n",
      "1   0.00486634037837        2    0.43346966679           2   \n",
      "2  0.000314414156821        3  0.0843411059012           3   \n",
      "3  0.000111871946192        4  0.0435665270921           4   \n",
      "4  0.000497957489363        5  0.0921464898574           5   \n",
      "\n",
      "                      zone        borough  \\\n",
      "0           Newark Airport            EWR   \n",
      "1              Jamaica Bay         Queens   \n",
      "2  Allerton/Pelham Gardens          Bronx   \n",
      "3            Alphabet City      Manhattan   \n",
      "4            Arden Heights  Staten Island   \n",
      "\n",
      "                                            geometry  \n",
      "0  MULTIPOLYGON (((-74.18445 40.695, -74.18449 40...  \n",
      "1  MULTIPOLYGON (((-73.82338 40.63899, -73.82277 ...  \n",
      "2  MULTIPOLYGON (((-73.84793 40.87134, -73.84725 ...  \n",
      "3  MULTIPOLYGON (((-73.97177 40.72582, -73.97179 ...  \n",
      "4  MULTIPOLYGON (((-74.17422 40.56257, -74.17349 ...  \n"
     ]
    }
   ],
   "source": [
    "import geopandas as gpd\n",
    "\n",
    "# Load NYC Taxi Zone geometries\n",
    "taxi_zones = gpd.read_file(\"~/nyc_taxi_project/taxi_zones.geojson\")\n",
    "\n",
    "# Convert projection to latitude/longitude (EPSG 4326) if needed\n",
    "taxi_zones = taxi_zones.to_crs(\"EPSG:4326\")\n",
    "\n",
    "# Show first few rows\n",
    "print(taxi_zones.head())\n"
   ]
  },
  {
   "cell_type": "code",
   "execution_count": 41,
   "id": "3b3f25fc-07b8-4329-95cf-fb2ab726fbde",
   "metadata": {},
   "outputs": [
    {
     "name": "stdout",
     "output_type": "stream",
     "text": [
      "              <?xml version=\"1.0\" encoding=\"UTF-8\"?>\n",
      "0  <Error><Code>AccessDenied</Code><Message>Acces...\n",
      "          shape_area objectid       shape_leng location_id  \\\n",
      "0    0.0007823067885        1   0.116357453189           1   \n",
      "1   0.00486634037837        2    0.43346966679           2   \n",
      "2  0.000314414156821        3  0.0843411059012           3   \n",
      "3  0.000111871946192        4  0.0435665270921           4   \n",
      "4  0.000497957489363        5  0.0921464898574           5   \n",
      "\n",
      "                      zone        borough  \\\n",
      "0           Newark Airport            EWR   \n",
      "1              Jamaica Bay         Queens   \n",
      "2  Allerton/Pelham Gardens          Bronx   \n",
      "3            Alphabet City      Manhattan   \n",
      "4            Arden Heights  Staten Island   \n",
      "\n",
      "                                            geometry  \n",
      "0  MULTIPOLYGON (((-74.18445 40.695, -74.18449 40...  \n",
      "1  MULTIPOLYGON (((-73.82338 40.63899, -73.82277 ...  \n",
      "2  MULTIPOLYGON (((-73.84793 40.87134, -73.84725 ...  \n",
      "3  MULTIPOLYGON (((-73.97177 40.72582, -73.97179 ...  \n",
      "4  MULTIPOLYGON (((-74.17422 40.56257, -74.17349 ...  \n"
     ]
    }
   ],
   "source": [
    "import pandas as pd\n",
    "import geopandas as gpd\n",
    "\n",
    "# Load NYC Taxi Zone Lookup\n",
    "zone_lookup = pd.read_csv(\"~/nyc_taxi_project/taxi_zone_lookup.csv\")\n",
    "print(zone_lookup.head())\n",
    "\n",
    "# Load NYC Taxi Zone Geometries\n",
    "taxi_zones = gpd.read_file(\"~/nyc_taxi_project/taxi_zones.geojson\")\n",
    "taxi_zones = taxi_zones.to_crs(\"EPSG:4326\")  # Convert to lat/lon if needed\n",
    "print(taxi_zones.head())\n"
   ]
  },
  {
   "cell_type": "code",
   "execution_count": 44,
   "id": "af26983b-5034-46a8-af5f-7b855f5fedc7",
   "metadata": {
    "scrolled": true
   },
   "outputs": [
    {
     "name": "stdout",
     "output_type": "stream",
     "text": [
      "✅ File exists!\n"
     ]
    }
   ],
   "source": [
    "import os\n",
    "\n",
    "file_path = \"~/nyc_taxi_project/taxi_zone_lookup.csv\"  # Update with the correct path if needed\n",
    "\n",
    "if os.path.exists(os.path.expanduser(file_path)):\n",
    "    print(\"✅ File exists!\")\n",
    "else:\n",
    "    print(\"❌ File not found!\")\n",
    "\n"
   ]
  },
  {
   "cell_type": "code",
   "execution_count": 45,
   "id": "19ab165e-daed-4a35-b24a-0922a6511056",
   "metadata": {},
   "outputs": [
    {
     "name": "stdout",
     "output_type": "stream",
     "text": [
      "<?xml version=\"1.0\" encoding=\"UTF-8\"?>\n",
      "\n"
     ]
    }
   ],
   "source": [
    "with open(os.path.expanduser(file_path), \"r\") as f:\n",
    "    print(f.readline())  # Print the first line\n"
   ]
  },
  {
   "cell_type": "code",
   "execution_count": 48,
   "id": "309dafc2-5281-4a00-a00b-62089d7dafbb",
   "metadata": {},
   "outputs": [
    {
     "name": "stdout",
     "output_type": "stream",
     "text": [
      "   LocationID        Borough                     Zone service_zone\n",
      "0           1            EWR           Newark Airport          EWR\n",
      "1           2         Queens              Jamaica Bay    Boro Zone\n",
      "2           3          Bronx  Allerton/Pelham Gardens    Boro Zone\n",
      "3           4      Manhattan            Alphabet City  Yellow Zone\n",
      "4           5  Staten Island            Arden Heights    Boro Zone\n"
     ]
    }
   ],
   "source": [
    "import pandas as pd\n",
    "\n",
    "file_path = \"/Users/chonnipha/Desktop/3rd year second sem/intern/nyc_taxi_project/taxi_zone_lookup.csv\"\n",
    "zone_lookup = pd.read_csv(file_path)\n",
    "print(zone_lookup.head())  # Check if it's loading correctly\n"
   ]
  },
  {
   "cell_type": "code",
   "execution_count": 49,
   "id": "441e0e05-a188-4c34-87ce-f3da3383b579",
   "metadata": {},
   "outputs": [
    {
     "name": "stdout",
     "output_type": "stream",
     "text": [
      "Index(['LocationID', 'Borough', 'Zone', 'service_zone'], dtype='object')\n",
      "['VendorID', 'tpep_pickup_datetime', 'tpep_dropoff_datetime', 'passenger_count', 'trip_distance', 'RatecodeID', 'store_and_fwd_flag', 'PULocationID', 'DOLocationID', 'payment_type', 'fare_amount', 'extra', 'mta_tax', 'tip_amount', 'tolls_amount', 'improvement_surcharge', 'total_amount', 'congestion_surcharge', 'Airport_fee']\n"
     ]
    }
   ],
   "source": [
    "print(zone_lookup.columns)\n",
    "print(df.columns)\n"
   ]
  },
  {
   "cell_type": "code",
   "execution_count": 50,
   "id": "6ae17137-d44b-4c0c-a84c-9a4896dbc86b",
   "metadata": {},
   "outputs": [
    {
     "name": "stderr",
     "output_type": "stream",
     "text": [
      "                                                                                "
     ]
    },
    {
     "name": "stdout",
     "output_type": "stream",
     "text": [
      "   PULocationID  LocationID    Borough                       Zone service_zone\n",
      "0            68          68  Manhattan               East Chelsea  Yellow Zone\n",
      "1            48          48  Manhattan               Clinton East  Yellow Zone\n",
      "2           132         132     Queens                JFK Airport     Airports\n",
      "3           161         161  Manhattan             Midtown Center  Yellow Zone\n",
      "4           246         246  Manhattan  West Chelsea/Hudson Yards  Yellow Zone\n"
     ]
    }
   ],
   "source": [
    "pickup_df = df.select(\"PULocationID\").toPandas()  # Convert PySpark DF to Pandas\n",
    "pickup_df = pickup_df.merge(zone_lookup, left_on=\"PULocationID\", right_on=\"LocationID\", how=\"left\")\n",
    "\n",
    "print(pickup_df.head())  # Check if merge worked\n"
   ]
  },
  {
   "cell_type": "code",
   "execution_count": 51,
   "id": "b077ff7f-e89b-487d-99da-52519bf31b32",
   "metadata": {},
   "outputs": [
    {
     "name": "stdout",
     "output_type": "stream",
     "text": [
      "Index(['PULocationID', 'LocationID', 'Borough', 'Zone', 'service_zone'], dtype='object')\n"
     ]
    }
   ],
   "source": [
    "print(pickup_df.columns)  # Check if latitude & longitude are in the data\n"
   ]
  },
  {
   "cell_type": "code",
   "execution_count": 52,
   "id": "8132a285-b25d-4442-bb3b-66c246ba598b",
   "metadata": {},
   "outputs": [
    {
     "name": "stdout",
     "output_type": "stream",
     "text": [
      "Index(['shape_area', 'objectid', 'shape_leng', 'location_id', 'zone',\n",
      "       'borough', 'geometry'],\n",
      "      dtype='object')\n"
     ]
    }
   ],
   "source": [
    "print(taxi_zones.columns)\n"
   ]
  },
  {
   "cell_type": "code",
   "execution_count": 54,
   "id": "6c0ab735-3609-4c03-af0b-c84469224472",
   "metadata": {},
   "outputs": [
    {
     "name": "stdout",
     "output_type": "stream",
     "text": [
      "  PULocationID  LocationID    Borough                       Zone service_zone  \\\n",
      "0           68          68  Manhattan               East Chelsea  Yellow Zone   \n",
      "1           48          48  Manhattan               Clinton East  Yellow Zone   \n",
      "2          132         132     Queens                JFK Airport     Airports   \n",
      "3          161         161  Manhattan             Midtown Center  Yellow Zone   \n",
      "4          246         246  Manhattan  West Chelsea/Hudson Yards  Yellow Zone   \n",
      "\n",
      "  location_id                                           geometry  \n",
      "0          68  MULTIPOLYGON (((-74.00202 40.74044, -74.00252 ...  \n",
      "1          48  MULTIPOLYGON (((-73.99118 40.75533, -73.99163 ...  \n",
      "2         132  MULTIPOLYGON (((-73.82503 40.66358, -73.82486 ...  \n",
      "3         161  MULTIPOLYGON (((-73.97534 40.7553, -73.97581 4...  \n",
      "4         246  MULTIPOLYGON (((-74.0044 40.76267, -74.0022 40...  \n"
     ]
    }
   ],
   "source": [
    "import geopandas as gpd\n",
    "\n",
    "# Ensure both columns have the same data type before merging\n",
    "pickup_df['PULocationID'] = pickup_df['PULocationID'].astype(str)  # Convert to string\n",
    "taxi_zones['location_id'] = taxi_zones['location_id'].astype(str)  # Convert to string\n",
    "\n",
    "# Merge DataFrames\n",
    "pickup_df = pickup_df.merge(\n",
    "    taxi_zones[['location_id', 'geometry']],  # Select only required columns\n",
    "    left_on=\"PULocationID\", right_on=\"location_id\", how=\"left\"\n",
    ")\n",
    "\n",
    "print(pickup_df.head())  # Check if 'geometry' column is now in pickup_df\n"
   ]
  },
  {
   "cell_type": "code",
   "execution_count": 55,
   "id": "7ac5e423-6b49-4ef6-ad1e-997659069a5f",
   "metadata": {},
   "outputs": [
    {
     "data": {
      "image/png": "[encoded data removed]",
      "text/plain": [
       "<Figure size 1000x800 with 1 Axes>"
      ]
     },
     "metadata": {},
     "output_type": "display_data"
    }
   ],
   "source": [
    "import matplotlib.pyplot as plt\n",
    "\n",
    "# Create a base map\n",
    "fig, ax = plt.subplots(figsize=(10, 8))\n",
    "\n",
    "# Plot the taxi zone boundaries\n",
    "taxi_zones.plot(ax=ax, color=\"lightgrey\", edgecolor=\"black\")\n",
    "\n",
    "# Plot the pickup locations\n",
    "pickup_df.plot(ax=ax, color=\"red\", alpha=0.2, markersize=5)\n",
    "\n",
    "plt.title(\"NYC Taxi Pickup Locations Heatmap\")\n",
    "plt.xlabel(\"Longitude\")\n",
    "plt.ylabel(\"Latitude\")\n",
    "plt.show()\n"
   ]
  },
  {
   "cell_type": "code",
   "execution_count": 67,
   "id": "8c3f6da2-8d9d-482e-8352-2a56b5eea9c9",
   "metadata": {},
   "outputs": [
    {
     "name": "stdout",
     "output_type": "stream",
     "text": [
      "Index(['PULocationID', 'LocationID', 'Borough', 'Zone', 'service_zone',\n",
      "       'location_id', 'geometry'],\n",
      "      dtype='object')\n"
     ]
    }
   ],
   "source": [
    "print(pickup_df.columns)\n"
   ]
  },
  {
   "cell_type": "code",
   "execution_count": 68,
   "id": "f8700b6f-304f-4031-aa68-84c17fe4f7b2",
   "metadata": {},
   "outputs": [
    {
     "name": "stdout",
     "output_type": "stream",
     "text": [
      "MultiPolygon    2996713\n",
      "Name: count, dtype: int64\n"
     ]
    }
   ],
   "source": [
    "print(pickup_df[\"geometry\"].geom_type.value_counts())\n",
    "\n"
   ]
  },
  {
   "cell_type": "code",
   "execution_count": 69,
   "id": "e6f24420-a4fa-4d09-b363-a5e93b786235",
   "metadata": {},
   "outputs": [
    {
     "name": "stderr",
     "output_type": "stream",
     "text": [
      "/var/folders/hm/11_9m7cn1sg3lxccgqb183z40000gn/T/ipykernel_76840/1389111782.py:4: UserWarning: Geometry is in a geographic CRS. Results from 'centroid' are likely incorrect. Use 'GeoSeries.to_crs()' to re-project geometries to a projected CRS before this operation.\n",
      "\n",
      "  pickup_df[\"geometry\"] = pickup_df[\"geometry\"].centroid\n"
     ]
    },
    {
     "name": "stdout",
     "output_type": "stream",
     "text": [
      "Point    2996713\n",
      "Name: count, dtype: int64\n"
     ]
    }
   ],
   "source": [
    "import geopandas as gpd\n",
    "\n",
    "# แปลง geometry ให้เป็นจุดศูนย์กลาง\n",
    "pickup_df[\"geometry\"] = pickup_df[\"geometry\"].centroid\n",
    "\n",
    "# ตรวจสอบประเภท geometry ใหม่\n",
    "print(pickup_df[\"geometry\"].geom_type.value_counts())  # ควรแสดง \"Point\"\n"
   ]
  },
  {
   "cell_type": "code",
   "execution_count": 70,
   "id": "188c8c90-14af-495b-a801-582ce89d2ba6",
   "metadata": {},
   "outputs": [
    {
     "name": "stdout",
     "output_type": "stream",
     "text": [
      "   longitude   latitude\n",
      "0 -73.999917  40.748428\n",
      "1 -73.989845  40.762253\n",
      "2 -73.786533  40.646985\n",
      "3 -73.977698  40.758028\n",
      "4 -74.004015  40.753309\n"
     ]
    }
   ],
   "source": [
    "pickup_df[\"longitude\"] = pickup_df[\"geometry\"].x\n",
    "pickup_df[\"latitude\"] = pickup_df[\"geometry\"].y\n",
    "\n",
    "# ตรวจสอบค่าพิกัด\n",
    "print(pickup_df[[\"longitude\", \"latitude\"]].head())\n"
   ]
  },
  {
   "cell_type": "code",
   "execution_count": 71,
   "id": "fda9d126-ad1a-40ec-a914-bd644177ffc4",
   "metadata": {},
   "outputs": [
    {
     "name": "stdout",
     "output_type": "stream",
     "text": [
      "  PULocationID  LocationID    Borough                       Zone service_zone  \\\n",
      "0           68          68  Manhattan               East Chelsea  Yellow Zone   \n",
      "1           48          48  Manhattan               Clinton East  Yellow Zone   \n",
      "2          132         132     Queens                JFK Airport     Airports   \n",
      "3          161         161  Manhattan             Midtown Center  Yellow Zone   \n",
      "4          246         246  Manhattan  West Chelsea/Hudson Yards  Yellow Zone   \n",
      "\n",
      "  location_id                    geometry  longitude   latitude  \n",
      "0          68  POINT (-73.99992 40.74843) -73.999917  40.748428  \n",
      "1          48  POINT (-73.98984 40.76225) -73.989845  40.762253  \n",
      "2         132  POINT (-73.78653 40.64698) -73.786533  40.646985  \n",
      "3         161   POINT (-73.9777 40.75803) -73.977698  40.758028  \n",
      "4         246  POINT (-74.00402 40.75331) -74.004015  40.753309  \n",
      "PULocationID      object\n",
      "LocationID         int64\n",
      "Borough           object\n",
      "Zone              object\n",
      "service_zone      object\n",
      "location_id       object\n",
      "geometry        geometry\n",
      "longitude        float64\n",
      "latitude         float64\n",
      "dtype: object\n",
      "EPSG:4326\n"
     ]
    }
   ],
   "source": [
    "print(pickup_df.head())  # Check the first few rows\n",
    "print(pickup_df.dtypes)  # Confirm data types\n",
    "print(pickup_df.crs)  # Ensure correct CRS (should be EPSG:4326)\n"
   ]
  },
  {
   "cell_type": "code",
   "execution_count": 72,
   "id": "498c650f-25d4-47fd-b1f6-469849f46cfa",
   "metadata": {},
   "outputs": [
    {
     "data": {
      "image/png": "[encoded data removed]",
      "text/plain": [
       "<Figure size 1000x800 with 1 Axes>"
      ]
     },
     "metadata": {},
     "output_type": "display_data"
    }
   ],
   "source": [
    "import matplotlib.pyplot as plt\n",
    "\n",
    "plt.figure(figsize=(10, 8))\n",
    "plt.scatter(pickup_df[\"longitude\"], pickup_df[\"latitude\"], alpha=0.2, s=5, color=\"red\")\n",
    "plt.title(\"NYC Taxi Pickup Locations\")\n",
    "plt.xlabel(\"Longitude\")\n",
    "plt.ylabel(\"Latitude\")\n",
    "plt.grid(True)\n",
    "plt.show()\n"
   ]
  },
  {
   "cell_type": "code",
   "execution_count": 73,
   "id": "e32b1fef-8d9e-4793-91af-ffce5fd2cdd1",
   "metadata": {},
   "outputs": [
    {
     "data": {
      "image/png": "[encoded data removed]",
      "text/plain": [
       "<Figure size 1000x800 with 1 Axes>"
      ]
     },
     "metadata": {},
     "output_type": "display_data"
    }
   ],
   "source": [
    "fig, ax = plt.subplots(figsize=(10, 8))\n",
    "\n",
    "# Plot the NYC taxi zones\n",
    "taxi_zones.plot(ax=ax, color=\"lightgrey\", edgecolor=\"black\")\n",
    "\n",
    "# Plot pickup locations\n",
    "pickup_df.plot(ax=ax, color=\"red\", alpha=0.2, markersize=5)\n",
    "\n",
    "plt.title(\"NYC Taxi Pickup Locations Overlayed on Taxi Zones\")\n",
    "plt.xlabel(\"Longitude\")\n",
    "plt.ylabel(\"Latitude\")\n",
    "plt.show()\n"
   ]
  },
  {
   "cell_type": "code",
   "execution_count": 76,
   "id": "aa0439a6-cc8b-4b1a-94db-131d149dfad1",
   "metadata": {},
   "outputs": [
    {
     "data": {
      "image/png": "[encoded data removed]",
      "text/plain": [
       "<Figure size 1000x800 with 1 Axes>"
      ]
     },
     "metadata": {},
     "output_type": "display_data"
    }
   ],
   "source": [
    "import seaborn as sns\n",
    "\n",
    "plt.figure(figsize=(10, 8))\n",
    "sns.kdeplot(x=pickup_df[\"longitude\"], y=pickup_df[\"latitude\"], cmap=\"Reds\", fill=True)\n",
    "plt.title(\"NYC Taxi Pickup Heatmap\")\n",
    "plt.xlabel(\"Longitude\")\n",
    "plt.ylabel(\"Latitude\")\n",
    "plt.show()\n"
   ]
  },
  {
   "cell_type": "code",
   "execution_count": 77,
   "id": "869c33a9-c457-4766-aa6e-9f6e82602ee5",
   "metadata": {},
   "outputs": [
    {
     "name": "stdout",
     "output_type": "stream",
     "text": [
      "PULocationID\n",
      "161    147086\n",
      "237    140800\n",
      "236    134000\n",
      "132    126800\n",
      "162    105938\n",
      "230    102279\n",
      "186    100415\n",
      "142     97253\n",
      "239     90849\n",
      "163     89182\n",
      "Name: count, dtype: int64\n"
     ]
    }
   ],
   "source": [
    "top_pickups = pickup_df[\"PULocationID\"].value_counts().head(10)\n",
    "print(top_pickups)\n"
   ]
  },
  {
   "cell_type": "code",
   "execution_count": 81,
   "id": "324dba78-9010-4b24-8904-626f57c3580b",
   "metadata": {},
   "outputs": [],
   "source": [
    "pickup_df.to_csv(\"processed_pickups.csv\", index=False)\n",
    "\n"
   ]
  },
  {
   "cell_type": "code",
   "execution_count": 83,
   "id": "7dec9c57-6600-473b-a46d-4ffc7a405288",
   "metadata": {},
   "outputs": [],
   "source": [
    "pickup_df[\"PULocationID\"] = pickup_df[\"PULocationID\"].astype(str)\n",
    "zone_lookup[\"LocationID\"] = zone_lookup[\"LocationID\"].astype(str)\n"
   ]
  },
  {
   "cell_type": "code",
   "execution_count": 84,
   "id": "76ad6b7c-0ff8-45d0-b7f9-2d8d0b5820f1",
   "metadata": {},
   "outputs": [
    {
     "name": "stdout",
     "output_type": "stream",
     "text": [
      "                            Zone        Borough   count\n",
      "0                 Midtown Center      Manhattan  147086\n",
      "1          Upper East Side South      Manhattan  140800\n",
      "2          Upper East Side North      Manhattan  134000\n",
      "3                    JFK Airport         Queens  126800\n",
      "4                   Midtown East      Manhattan  105938\n",
      "..                           ...            ...     ...\n",
      "249    Saint George/New Brighton  Staten Island       2\n",
      "250                    Stapleton  Staten Island       2\n",
      "251  Heartland Village/Todt Hill  Staten Island       2\n",
      "252                  Westerleigh  Staten Island       1\n",
      "253                Rikers Island          Bronx       1\n",
      "\n",
      "[254 rows x 3 columns]\n"
     ]
    }
   ],
   "source": [
    "top_pickups = pickup_df[\"PULocationID\"].value_counts().reset_index()\n",
    "top_pickups.columns = [\"PULocationID\", \"count\"]\n",
    "top_pickups = top_pickups.merge(zone_lookup, left_on=\"PULocationID\", right_on=\"LocationID\", how=\"left\")\n",
    "print(top_pickups[[\"Zone\", \"Borough\", \"count\"]])\n"
   ]
  },
  {
   "cell_type": "code",
   "execution_count": 85,
   "id": "a169726b-d573-44c6-8b0c-879f364f7f8d",
   "metadata": {},
   "outputs": [
    {
     "data": {
      "image/png": "[encoded data removed]",
      "text/plain": [
       "<Figure size 1000x600 with 1 Axes>"
      ]
     },
     "metadata": {},
     "output_type": "display_data"
    }
   ],
   "source": [
    "import seaborn as sns\n",
    "import matplotlib.pyplot as plt\n",
    "\n",
    "plt.figure(figsize=(10,6))\n",
    "sns.barplot(data=top_pickups.head(10), x=\"count\", y=\"Zone\", hue=\"Borough\", dodge=False)\n",
    "plt.title(\"Top 10 NYC Taxi Pickup Locations\")\n",
    "plt.xlabel(\"Pickup Count\")\n",
    "plt.ylabel(\"Zone\")\n",
    "plt.show()\n"
   ]
  },
  {
   "cell_type": "code",
   "execution_count": 87,
   "id": "b17ba591-a2a7-4f49-96a5-9ae62bab4de5",
   "metadata": {},
   "outputs": [
    {
     "name": "stdout",
     "output_type": "stream",
     "text": [
      "Index(['PULocationID', 'LocationID', 'Borough', 'Zone', 'service_zone',\n",
      "       'location_id', 'geometry', 'longitude', 'latitude'],\n",
      "      dtype='object')\n"
     ]
    }
   ],
   "source": [
    "print(pickup_df.columns)\n"
   ]
  },
  {
   "cell_type": "code",
   "execution_count": 106,
   "id": "fe434da5-47a3-463d-b182-6db207c65138",
   "metadata": {},
   "outputs": [
    {
     "name": "stdout",
     "output_type": "stream",
     "text": [
      "/Users/chonnipha/nyc_taxi_project\n"
     ]
    }
   ],
   "source": [
    "import os\n",
    "print(os.getcwd())  # This shows the current working directory\n",
    "\n",
    "\n",
    "\n"
   ]
  },
  {
   "cell_type": "code",
   "execution_count": 108,
   "id": "a62ce119-7028-4e40-96a2-aeca4a03a27c",
   "metadata": {},
   "outputs": [],
   "source": [
    "import os\n",
    "os.chdir(\"/Users/chonnipha/Desktop/3rd year second sem/intern/nyc_taxi_project\")\n",
    "df = pd.read_csv(\"taxi_zone_lookup.csv\")\n"
   ]
  },
  {
   "cell_type": "code",
   "execution_count": 109,
   "id": "3fb09351-cda9-44b8-a989-94598df837ba",
   "metadata": {},
   "outputs": [
    {
     "name": "stdout",
     "output_type": "stream",
     "text": [
      "True\n"
     ]
    }
   ],
   "source": [
    "import os\n",
    "print(os.path.exists(\"/Users/chonnipha/Desktop/3rd year second sem/intern/nyc_taxi_project/taxi_zone_lookup.csv\"))\n"
   ]
  },
  {
   "cell_type": "code",
   "execution_count": 110,
   "id": "6112ffae-e006-468e-b797-adcf95aeb1a3",
   "metadata": {},
   "outputs": [
    {
     "name": "stdout",
     "output_type": "stream",
     "text": [
      "Index(['LocationID', 'Borough', 'Zone', 'service_zone'], dtype='object')\n",
      "   LocationID        Borough                     Zone service_zone\n",
      "0           1            EWR           Newark Airport          EWR\n",
      "1           2         Queens              Jamaica Bay    Boro Zone\n",
      "2           3          Bronx  Allerton/Pelham Gardens    Boro Zone\n",
      "3           4      Manhattan            Alphabet City  Yellow Zone\n",
      "4           5  Staten Island            Arden Heights    Boro Zone\n"
     ]
    }
   ],
   "source": [
    "import pandas as pd\n",
    "\n",
    "# Load the taxi zone lookup file\n",
    "zone_lookup = pd.read_csv(\"taxi_zone_lookup.csv\")\n",
    "\n",
    "# Display column names and first few rows\n",
    "print(zone_lookup.columns)\n",
    "print(zone_lookup.head())\n"
   ]
  },
  {
   "cell_type": "code",
   "execution_count": 112,
   "id": "48c53f53-bf77-4b05-ac1d-7aa3ab5c40ac",
   "metadata": {},
   "outputs": [
    {
     "name": "stdout",
     "output_type": "stream",
     "text": [
      "PULocationID        object\n",
      "LocationID_x         int64\n",
      "Borough_x           object\n",
      "Zone_x              object\n",
      "service_zone_x      object\n",
      "location_id         object\n",
      "geometry          geometry\n",
      "longitude          float64\n",
      "latitude           float64\n",
      "LocationID_y        object\n",
      "Borough_y           object\n",
      "Zone_y              object\n",
      "service_zone_y      object\n",
      "dtype: object\n",
      "LocationID      object\n",
      "Borough         object\n",
      "Zone            object\n",
      "service_zone    object\n",
      "dtype: object\n"
     ]
    }
   ],
   "source": [
    "# Check data types\n",
    "print(pickup_df.dtypes)\n",
    "print(zone_lookup.dtypes)\n"
   ]
  },
  {
   "cell_type": "code",
   "execution_count": 114,
   "id": "e704ddd9-8261-437a-a679-93bd06921edf",
   "metadata": {},
   "outputs": [
    {
     "name": "stdout",
     "output_type": "stream",
     "text": [
      "PULocationID     object\n",
      "Borough          object\n",
      "Zone             object\n",
      "Service Zone     object\n",
      "longitude       float64\n",
      "latitude        float64\n",
      "dtype: object\n",
      "  PULocationID    Borough                       Zone Service Zone  longitude  \\\n",
      "0           68  Manhattan               East Chelsea  Yellow Zone -73.999917   \n",
      "1           48  Manhattan               Clinton East  Yellow Zone -73.989845   \n",
      "2          132     Queens                JFK Airport     Airports -73.786533   \n",
      "3          161  Manhattan             Midtown Center  Yellow Zone -73.977698   \n",
      "4          246  Manhattan  West Chelsea/Hudson Yards  Yellow Zone -74.004015   \n",
      "\n",
      "    latitude  \n",
      "0  40.748428  \n",
      "1  40.762253  \n",
      "2  40.646985  \n",
      "3  40.758028  \n",
      "4  40.753309  \n"
     ]
    }
   ],
   "source": [
    "# Step 5: Drop redundant columns\n",
    "pickup_df = pickup_df.drop(columns=[\"location_id\", \"Borough_y\", \"Zone_y\", \"service_zone_y\"], errors=\"ignore\")\n",
    "\n",
    "# Step 6: Rename columns for clarity (if needed)\n",
    "pickup_df.rename(columns={\n",
    "    \"Borough\": \"Borough\",\n",
    "    \"Zone\": \"Zone\",\n",
    "    \"Service Zone\": \"Service Zone\"\n",
    "}, inplace=True)\n",
    "\n",
    "# Step 7: Final check\n",
    "print(pickup_df.dtypes)\n",
    "print(pickup_df.head())\n"
   ]
  },
  {
   "cell_type": "code",
   "execution_count": 115,
   "id": "67436156-1c8e-4f7d-9e28-9872737262c3",
   "metadata": {},
   "outputs": [
    {
     "name": "stdout",
     "output_type": "stream",
     "text": [
      "Zone\n",
      "Midtown Center                  147086\n",
      "Upper East Side South           140800\n",
      "Upper East Side North           134000\n",
      "JFK Airport                     126800\n",
      "Midtown East                    105938\n",
      "Times Sq/Theatre District       102279\n",
      "Penn Station/Madison Sq West    100415\n",
      "Lincoln Square East              97253\n",
      "Upper West Side South            90849\n",
      "Midtown North                    89182\n",
      "Name: count, dtype: int64\n"
     ]
    }
   ],
   "source": [
    "top_pickups = pickup_df[\"Zone\"].value_counts().head(10)\n",
    "print(top_pickups)\n"
   ]
  },
  {
   "cell_type": "code",
   "execution_count": 118,
   "id": "4a7a8d35-44a5-4ad4-ace4-1df47fed0012",
   "metadata": {},
   "outputs": [
    {
     "name": "stdout",
     "output_type": "stream",
     "text": [
      "Collecting folium\n",
      "  Downloading folium-0.19.5-py2.py3-none-any.whl.metadata (4.1 kB)\n",
      "Collecting branca>=0.6.0 (from folium)\n",
      "  Downloading branca-0.8.1-py3-none-any.whl.metadata (1.5 kB)\n",
      "Requirement already satisfied: jinja2>=2.9 in /Users/chonnipha/miniconda3/lib/python3.12/site-packages (from folium) (3.1.4)\n",
      "Requirement already satisfied: numpy in /Users/chonnipha/miniconda3/lib/python3.12/site-packages (from folium) (2.1.3)\n",
      "Requirement already satisfied: requests in /Users/chonnipha/miniconda3/lib/python3.12/site-packages (from folium) (2.32.3)\n",
      "Collecting xyzservices (from folium)\n",
      "  Downloading xyzservices-2025.1.0-py3-none-any.whl.metadata (4.3 kB)\n",
      "Requirement already satisfied: MarkupSafe>=2.0 in /Users/chonnipha/miniconda3/lib/python3.12/site-packages (from jinja2>=2.9->folium) (2.1.3)\n",
      "Requirement already satisfied: charset-normalizer<4,>=2 in /Users/chonnipha/miniconda3/lib/python3.12/site-packages (from requests->folium) (3.3.2)\n",
      "Requirement already satisfied: idna<4,>=2.5 in /Users/chonnipha/miniconda3/lib/python3.12/site-packages (from requests->folium) (3.7)\n",
      "Requirement already satisfied: urllib3<3,>=1.21.1 in /Users/chonnipha/miniconda3/lib/python3.12/site-packages (from requests->folium) (2.2.3)\n",
      "Requirement already satisfied: certifi>=2017.4.17 in /Users/chonnipha/miniconda3/lib/python3.12/site-packages (from requests->folium) (2024.12.14)\n",
      "Downloading folium-0.19.5-py2.py3-none-any.whl (110 kB)\n",
      "Downloading branca-0.8.1-py3-none-any.whl (26 kB)\n",
      "Downloading xyzservices-2025.1.0-py3-none-any.whl (88 kB)\n",
      "Installing collected packages: xyzservices, branca, folium\n",
      "Successfully installed branca-0.8.1 folium-0.19.5 xyzservices-2025.1.0\n"
     ]
    }
   ],
   "source": [
    "!pip install folium\n"
   ]
  },
  {
   "cell_type": "code",
   "execution_count": 119,
   "id": "c381eda3-1986-45b6-9b54-7c4c59134116",
   "metadata": {},
   "outputs": [],
   "source": [
    "import folium\n",
    "from folium.plugins import HeatMap\n",
    "\n",
    "# Create a map centered around NYC\n",
    "m = folium.Map(location=[40.7128, -74.0060], zoom_start=11)\n",
    "\n",
    "# Add heatmap\n",
    "HeatMap(data=pickup_df[[\"latitude\", \"longitude\"]].dropna(), radius=10).add_to(m)\n",
    "\n",
    "# Save map as an HTML file\n",
    "m.save(\"nyc_pickup_heatmap.html\")\n"
   ]
  },
  {
   "cell_type": "code",
   "execution_count": 1,
   "id": "26592eae-8e1c-4ff4-a9cc-f90807a712ad",
   "metadata": {},
   "outputs": [
    {
     "name": "stdout",
     "output_type": "stream",
     "text": [
      "0.28.0\n"
     ]
    }
   ],
   "source": [
    "import openai\n",
    "print(openai.__version__)  # Should be 0.28.0 or 0.27.0\n"
   ]
  },
  {
   "cell_type": "code",
   "execution_count": 14,
   "id": "0c5df335-f08e-46d4-b597-77a74a8cd524",
   "metadata": {},
   "outputs": [
    {
     "ename": "SyntaxError",
     "evalue": "invalid decimal literal (3639047003.py, line 1)",
     "output_type": "error",
     "traceback": [
      "\u001b[0;36m  Cell \u001b[0;32mIn[14], line 1\u001b[0;36m\u001b[0m\n\u001b[0;31m    sk-8749a8081b464535952d22fd6bb993c8\u001b[0m\n\u001b[0m          ^\u001b[0m\n\u001b[0;31mSyntaxError\u001b[0m\u001b[0;31m:\u001b[0m invalid decimal literal\n"
     ]
    }
   ],
   "source": [
    "sk-8749a8081b464535952d22fd6bb993c8"
   ]
  },
  {
   "cell_type": "code",
   "execution_count": 15,
   "id": "8406425e-d503-42b4-aa4b-a1281f862d08",
   "metadata": {},
   "outputs": [
    {
     "name": "stdout",
     "output_type": "stream",
     "text": [
      "Requirement already satisfied: requests in /Users/chonnipha/miniconda3/lib/python3.12/site-packages (2.32.3)\n",
      "Requirement already satisfied: charset-normalizer<4,>=2 in /Users/chonnipha/miniconda3/lib/python3.12/site-packages (from requests) (3.3.2)\n",
      "Requirement already satisfied: idna<4,>=2.5 in /Users/chonnipha/miniconda3/lib/python3.12/site-packages (from requests) (3.7)\n",
      "Requirement already satisfied: urllib3<3,>=1.21.1 in /Users/chonnipha/miniconda3/lib/python3.12/site-packages (from requests) (2.2.3)\n",
      "Requirement already satisfied: certifi>=2017.4.17 in /Users/chonnipha/miniconda3/lib/python3.12/site-packages (from requests) (2024.12.14)\n",
      "Note: you may need to restart the kernel to use updated packages.\n"
     ]
    }
   ],
   "source": [
    "pip install requests\n"
   ]
  },
  {
   "cell_type": "code",
   "execution_count": 2,
   "id": "ac47cf73-8d2a-40c9-9e82-0ff0aa481400",
   "metadata": {},
   "outputs": [
    {
     "name": "stdout",
     "output_type": "stream",
     "text": [
      "{'id': '0672b52e-bc5c-46ae-96a3-189047380225', 'object': 'chat.completion', 'created': 1741835612, 'model': 'deepseek-chat', 'choices': [{'index': 0, 'message': {'role': 'assistant', 'content': 'The average wait time for a taxi in Queens at 7 PM can vary depending on several factors, including the specific location within Queens, the day of the week, weather conditions, and current demand for taxis. \\n\\nIn general, during peak hours like 7 PM, you might expect to wait anywhere from 5 to 15 minutes for a taxi in a busy area. However, in less busy areas or during adverse weather conditions, the wait time could be longer.\\n\\nFor the most accurate and up-to-date information, you might want to use a ride-hailing app like Uber or Lyft, which can provide real-time estimates of wait times based on current demand and driver availability in your area. Additionally, traditional taxi services may have their own apps or phone numbers where you can check wait times.'}, 'logprobs': None, 'finish_reason': 'stop'}], 'usage': {'prompt_tokens': 25, 'completion_tokens': 161, 'total_tokens': 186, 'prompt_tokens_details': {'cached_tokens': 0}, 'prompt_cache_hit_tokens': 0, 'prompt_cache_miss_tokens': 25}, 'system_fingerprint': 'fp_3a5770e1b4_prod0225'}\n"
     ]
    }
   ],
   "source": [
    "import requests\n",
    "\n",
    "# Set your API key\n",
    "API_KEY = \"sk-8749a8081b464535952d22fd6bb993c8\"\n",
    "\n",
    "# Define the API endpoint\n",
    "url = \"https://api.deepseek.com/v1/chat/completions\"\n",
    "\n",
    "# Prepare the request payload\n",
    "headers = {\n",
    "    \"Authorization\": f\"Bearer {API_KEY}\",\n",
    "    \"Content-Type\": \"application/json\"\n",
    "}\n",
    "\n",
    "data = {\n",
    "    \"model\": \"deepseek-chat\",\n",
    "    \"messages\": [\n",
    "        {\"role\": \"system\", \"content\": \"You are a helpful assistant.\"},\n",
    "        {\"role\": \"user\", \"content\": \"What is the average wait time for a taxi in Queens at 7 PM?\"}\n",
    "    ]\n",
    "}\n",
    "\n",
    "# Send the request\n",
    "response = requests.post(url, headers=headers, json=data)\n",
    "\n",
    "# Print the response\n",
    "print(response.json())\n"
   ]
  },
  {
   "cell_type": "code",
   "execution_count": 5,
   "id": "64351e23-c5fc-4973-8543-f70597674775",
   "metadata": {},
   "outputs": [
    {
     "name": "stdout",
     "output_type": "stream",
     "text": [
      "{\n",
      "    \"id\": \"a0e33938-5e15-45b2-bc2b-a17eb0e6440b\",\n",
      "    \"object\": \"chat.completion\",\n",
      "    \"created\": 1741835806,\n",
      "    \"model\": \"deepseek-chat\",\n",
      "    \"choices\": [\n",
      "        {\n",
      "            \"index\": 0,\n",
      "            \"message\": {\n",
      "                \"role\": \"assistant\",\n",
      "                \"content\": \"The average wait time for a taxi in Queens at 7 PM can vary depending on several factors, including the specific location within Queens, the day of the week, weather conditions, and local events. Generally, during peak hours like 7 PM, you might expect to wait anywhere from 5 to 15 minutes for a taxi, but this can be longer in areas with high demand or limited taxi availability.\\n\\nFor a more accurate estimate, you might want to use a ride-hailing app like Uber or Lyft, which can provide real-time wait times based on current demand and driver availability in your area. Additionally, traditional taxi services may have their own apps or hotlines that can give you an idea of wait times.\\n\\nIf you're in a particularly busy or remote area, it might be helpful to plan ahead and allow extra time for potential delays.\"\n",
      "            },\n",
      "            \"logprobs\": null,\n",
      "            \"finish_reason\": \"stop\"\n",
      "        }\n",
      "    ],\n",
      "    \"usage\": {\n",
      "        \"prompt_tokens\": 25,\n",
      "        \"completion_tokens\": 171,\n",
      "        \"total_tokens\": 196,\n",
      "        \"prompt_tokens_details\": {\n",
      "            \"cached_tokens\": 0\n",
      "        },\n",
      "        \"prompt_cache_hit_tokens\": 0,\n",
      "        \"prompt_cache_miss_tokens\": 25\n",
      "    },\n",
      "    \"system_fingerprint\": \"fp_3a5770e1b4_prod0225\"\n",
      "}\n"
     ]
    }
   ],
   "source": [
    "import requests\n",
    "import json\n",
    "\n",
    "# Set your API key\n",
    "API_KEY = \"sk-8749a8081b464535952d22fd6bb993c8\"\n",
    "\n",
    "# Define the API endpoint\n",
    "url = \"https://api.deepseek.com/v1/chat/completions\"\n",
    "\n",
    "# Prepare the request payload\n",
    "headers = {\n",
    "    \"Authorization\": f\"Bearer {API_KEY}\",\n",
    "    \"Content-Type\": \"application/json\"\n",
    "}\n",
    "\n",
    "data = {\n",
    "    \"model\": \"deepseek-chat\",\n",
    "    \"messages\": [\n",
    "        {\"role\": \"system\", \"content\": \"You are a helpful assistant.\"},\n",
    "        {\"role\": \"user\", \"content\": \"What is the average wait time for a taxi in Queens at 7 PM?\"}\n",
    "    ]\n",
    "}\n",
    "\n",
    "# Send the request\n",
    "response = requests.post(url, headers=headers, json=data)\n",
    "\n",
    "# Format and print response nicely\n",
    "response_json = response.json()\n",
    "print(json.dumps(response_json, indent=4, ensure_ascii=False))  # Pretty-print JSON\n"
   ]
  },
  {
   "cell_type": "code",
   "execution_count": 6,
   "id": "1d0a0934-9135-4598-914e-ba4e0e97bfa6",
   "metadata": {},
   "outputs": [
    {
     "name": "stdout",
     "output_type": "stream",
     "text": [
      "To determine the busiest taxi zone at 8 PM, we would typically analyze trip data from the NYC Taxi & Limousine Commission (TLC) dataset, focusing on the number of pickups or drop-offs in each taxi zone around that time. However, since I don't have access to real-time or the most recent data, I can provide general insights based on historical trends.\n",
      "\n",
      "Historically, some of the busiest taxi zones in NYC at 8 PM include:\n",
      "\n",
      "1. **Midtown Manhattan**: Areas around Times Square, Penn Station, and the Theater District are often bustling with activity in the evening.\n",
      "2. **Lower Manhattan**: Financial District and areas near popular evening destinations like the South Street Seaport.\n",
      "3. **Airports**: JFK and LaGuardia airports often see high activity around this time due to evening flights.\n",
      "\n",
      "For the most accurate and up-to-date information, you would need to analyze the latest TLC trip data, filtering for trips around 8 PM and aggregating by taxi zone. Let me know if you'd like guidance on how to perform this analysis!\n",
      "The average fare from John F. Kennedy International Airport (JFK) to Manhattan typically ranges between **$52 and $70**, depending on factors such as traffic, time of day, and the specific drop-off location in Manhattan. This estimate includes the base fare, tolls, and tips. \n",
      "\n",
      "If you're using a yellow taxi, the fare is metered and includes a flat rate of **$52** (as of 2023) for trips between JFK and Manhattan, plus any applicable tolls and tips. Rideshare services like Uber or Lyft may vary in price depending on demand and surge pricing.\n",
      "\n",
      "Let me know if you'd like more detailed insights or historical data!\n"
     ]
    }
   ],
   "source": [
    "import requests\n",
    "\n",
    "# Set your DeepSeek API Key\n",
    "API_KEY = \"sk-8749a8081b464535952d22fd6bb993c8\"\n",
    "\n",
    "# Define the API endpoint\n",
    "url = \"https://api.deepseek.com/v1/chat/completions\"\n",
    "\n",
    "# Function to interact with DeepSeek AI\n",
    "def ask_deepseek(question):\n",
    "    headers = {\n",
    "        \"Authorization\": f\"Bearer {API_KEY}\",\n",
    "        \"Content-Type\": \"application/json\"\n",
    "    }\n",
    "    \n",
    "    # AI Prompt\n",
    "    data = {\n",
    "        \"model\": \"deepseek-chat\",\n",
    "        \"messages\": [\n",
    "            {\"role\": \"system\", \"content\": \"You are an AI assistant trained to provide insights on NYC taxi data.\"},\n",
    "            {\"role\": \"user\", \"content\": question}\n",
    "        ]\n",
    "    }\n",
    "\n",
    "    response = requests.post(url, headers=headers, json=data)\n",
    "    \n",
    "    if response.status_code == 200:\n",
    "        return response.json()[\"choices\"][0][\"message\"][\"content\"]\n",
    "    else:\n",
    "        return f\"Error: {response.json()}\"\n",
    "\n",
    "# Example queries\n",
    "print(ask_deepseek(\"What is the busiest taxi zone at 8 PM?\"))\n",
    "print(ask_deepseek(\"What is the average fare from JFK to Manhattan?\"))\n"
   ]
  },
  {
   "cell_type": "code",
   "execution_count": 7,
   "id": "32325dac-a3c0-44d1-ac48-97b0fbb10718",
   "metadata": {},
   "outputs": [
    {
     "name": "stdin",
     "output_type": "stream",
     "text": [
      "\n",
      "🚖 Ask DeepSeek AI about NYC Taxis (or type 'exit' to quit):   What is the busiest taxi zone at 8 PM?\n"
     ]
    },
    {
     "name": "stdout",
     "output_type": "stream",
     "text": [
      "\n",
      "🔹 DeepSeek AI Response:\n",
      "📌 To determine the busiest taxi zone at 8 PM in NYC, we would typically analyze trip data from the NYC Taxi & Limousine Commission (TLC) dataset, focusing on pickups and drop-offs around that time. However, without access to real-time or specific historical data, I can provide general insights based on trends:\n",
      "\n",
      "1. **Midtown Manhattan**: Areas like Times Square, Penn Station, and the Theater District are often the busiest at 8 PM due to high foot traffic from commuters, tourists, and evening events.\n",
      "2. **Airports**: JFK and LaGuardia airports can also be busy during this time as travelers arrive or depart.\n",
      "3. **Popular Nightlife Areas**: Zones like the Meatpacking District, Lower East Side, and Williamsburg (Brooklyn) may see increased activity as people head out for the evening.\n",
      "\n",
      "For precise data, you would need to query the TLC dataset or use tools like BigQuery to analyze trip records filtered by time and location. Let me know if you'd like guidance on how to perform such an analysis! \n",
      "\n"
     ]
    },
    {
     "name": "stdin",
     "output_type": "stream",
     "text": [
      "\n",
      "🚖 Ask DeepSeek AI about NYC Taxis (or type 'exit' to quit):  What is the average fare from JFK to Manhattan?\n"
     ]
    },
    {
     "name": "stdout",
     "output_type": "stream",
     "text": [
      "\n",
      "🔹 DeepSeek AI Response:\n",
      "📌 The average fare from John F. Kennedy International Airport (JFK) to Manhattan typically ranges between **$52 and $70**, depending on factors such as traffic, time of day, and the specific drop-off location in Manhattan. This estimate includes the standard metered fare, tolls, and any applicable surcharges.\n",
      "\n",
      "### Key factors influencing the fare:\n",
      "1. **Metered Fare**: The base fare starts at $2.50, with additional charges per mile and per minute.\n",
      "2. **Tolls**: There is a toll for the airport and any bridges or tunnels used.\n",
      "3. **Surcharges**: A $1.00 improvement surcharge and a $0.50 MTA State Surcharge apply.\n",
      "4. **Traffic**: Heavy traffic can increase the fare due to time spent in the cab.\n",
      "5. **Time of Day**: Night surcharges (8 PM to 6 AM) and peak-hour surcharges (4 PM to 8 PM on weekdays) may apply.\n",
      "\n",
      "For a more precise estimate, you can use the NYC Taxi & Limousine Commission's fare calculator or apps like Uber or Lyft, which provide upfront pricing. \n",
      "\n"
     ]
    },
    {
     "name": "stdin",
     "output_type": "stream",
     "text": [
      "\n",
      "🚖 Ask DeepSeek AI about NYC Taxis (or type 'exit' to quit):  exit\n"
     ]
    },
    {
     "name": "stdout",
     "output_type": "stream",
     "text": [
      "👋 Goodbye!\n"
     ]
    }
   ],
   "source": [
    "import requests\n",
    "\n",
    "# Set your DeepSeek API Key\n",
    "API_KEY = \"sk-8749a8081b464535952d22fd6bb993c8\"\n",
    "\n",
    "# Define the API endpoint\n",
    "url = \"https://api.deepseek.com/v1/chat/completions\"\n",
    "\n",
    "# Function to interact with DeepSeek AI\n",
    "def ask_deepseek(question):\n",
    "    headers = {\n",
    "        \"Authorization\": f\"Bearer {API_KEY}\",\n",
    "        \"Content-Type\": \"application/json\"\n",
    "    }\n",
    "    \n",
    "    # AI Prompt\n",
    "    data = {\n",
    "        \"model\": \"deepseek-chat\",\n",
    "        \"messages\": [\n",
    "            {\"role\": \"system\", \"content\": \"You are an AI assistant trained to provide insights on NYC taxi data.\"},\n",
    "            {\"role\": \"user\", \"content\": question}\n",
    "        ]\n",
    "    }\n",
    "\n",
    "    response = requests.post(url, headers=headers, json=data)\n",
    "    \n",
    "    if response.status_code == 200:\n",
    "        return response.json()[\"choices\"][0][\"message\"][\"content\"]\n",
    "    else:\n",
    "        return f\"Error: {response.json()}\"\n",
    "\n",
    "# ✅ Interactive Mode: Let Users Ask Questions\n",
    "while True:\n",
    "    user_query = input(\"\\n🚖 Ask DeepSeek AI about NYC Taxis (or type 'exit' to quit): \")\n",
    "    if user_query.lower() in [\"exit\", \"quit\"]:\n",
    "        print(\"👋 Goodbye!\")\n",
    "        break\n",
    "    \n",
    "    response = ask_deepseek(user_query)\n",
    "    print(\"\\n🔹 DeepSeek AI Response:\\n📌\", response, \"\\n\")\n"
   ]
  },
  {
   "cell_type": "code",
   "execution_count": 8,
   "id": "1deb0fd4-18cb-4533-8470-2a3e8af55d25",
   "metadata": {},
   "outputs": [
    {
     "name": "stdin",
     "output_type": "stream",
     "text": [
      "\n",
      "🚖 Ask DeepSeek AI about NYC Taxis (or type 'exit' to quit):  What is the busiest taxi zone at 8 PM?\n"
     ]
    },
    {
     "name": "stdout",
     "output_type": "stream",
     "text": [
      "\n",
      "🔹 DeepSeek AI Response:\n",
      "\n",
      "📌 To determine the busiest taxi zone at 8 PM in NYC, we would typically analyze\n",
      "trip data from the NYC Taxi & Limousine Commission (TLC) dataset, focusing on\n",
      "pickups and drop-offs around that time. The busiest zone is often in high-\n",
      "traffic areas like Manhattan, such as the Midtown or Financial District zones.\n",
      "If you have access to the TLC dataset, you can filter the data for trips around\n",
      "8 PM and aggregate by taxi zone to identify the busiest one. Let me know if\n",
      "you'd like guidance on how to perform this analysis! \n",
      "\n"
     ]
    },
    {
     "name": "stdin",
     "output_type": "stream",
     "text": [
      "\n",
      "🚖 Ask DeepSeek AI about NYC Taxis (or type 'exit' to quit):  What are the peak hours for taxis in NYC?\n"
     ]
    },
    {
     "name": "stdout",
     "output_type": "stream",
     "text": [
      "\n",
      "🔹 DeepSeek AI Response:\n",
      "\n",
      "📌 The peak hours for taxis in New York City typically align with rush hours and\n",
      "high-demand periods. Based on historical NYC taxi data, the following are the\n",
      "most common peak hours:  1. **Morning Rush Hour**:      - **7:00 AM to 10:00\n",
      "AM**      This is when commuters are heading to work, and demand for taxis is\n",
      "high, especially in business districts like Midtown Manhattan and the Financial\n",
      "District.  2. **Evening Rush Hour**:      - **4:00 PM to 7:00 PM**      This\n",
      "period sees a surge in taxi demand as people leave work and head home or go out\n",
      "for evening activities.  3. **Late Night/Early Morning**:      - **10:00 PM to\n",
      "2:00 AM**      Demand spikes again as people leave bars, restaurants, and\n",
      "entertainment venues. This is especially true on weekends.  4. **Special\n",
      "Events**:      - During concerts, sports games, or major events (e.g., New\n",
      "Year's Eve), taxi demand can spike outside of these typical hours.  These\n",
      "patterns are influenced by work schedules, entertainment, and tourism. Weather\n",
      "conditions and holidays can also impact demand. If you're analyzing specific\n",
      "data, you might find slight variations depending on the neighborhood or time of\n",
      "year. \n",
      "\n"
     ]
    },
    {
     "name": "stdin",
     "output_type": "stream",
     "text": [
      "\n",
      "🚖 Ask DeepSeek AI about NYC Taxis (or type 'exit' to quit):  How do taxi fares compare between yellow cabs and Uber/Lyft?\n"
     ]
    },
    {
     "name": "stdout",
     "output_type": "stream",
     "text": [
      "\n",
      "🔹 DeepSeek AI Response:\n",
      "\n",
      "📌 Comparing taxi fares between yellow cabs and Uber/Lyft in NYC involves several\n",
      "factors, including base fares, distance, time, surge pricing, and additional\n",
      "fees. Here's a breakdown of how they generally compare:  ### 1. **Base Fare:**\n",
      "- **Yellow Cabs:** The base fare is $2.50 when you enter the cab.    -\n",
      "**Uber/Lyft:** Base fares vary depending on the type of service (e.g., UberX,\n",
      "Uber Comfort, Lyft Standard, Lyft Lux). Typically, the base fare for UberX or\n",
      "Lyft Standard is around $2.55 to $3.00.  ### 2. **Per-Mile and Per-Minute\n",
      "Rates:**    - **Yellow Cabs:**       - $2.50 per mile (or $1.25 per 1/5 mile)\n",
      "when traveling above 12 mph.      - $0.50 per minute (or $30 per hour) when in\n",
      "slow traffic or stopped.    - **Uber/Lyft:**       - Rates vary by service type\n",
      "and demand. For UberX or Lyft Standard, the per-mile rate is typically around\n",
      "$1.75 to $2.00, and the per-minute rate is around $0.35 to $0.40.  ### 3.\n",
      "**Surge Pricing/Demand Pricing:**    - **Yellow Cabs:** No surge pricing. The\n",
      "fare is calculated based on the meter, which uses fixed rates.    -\n",
      "**Uber/Lyft:** Both Uber and Lyft use dynamic pricing, which means fares can\n",
      "increase significantly during periods of high demand (e.g., rush hour, bad\n",
      "weather, special events). This can make rides much more expensive than yellow\n",
      "cabs during peak times.  ### 4. **Additional Fees:**    - **Yellow Cabs:**\n",
      "- $0.50 MTA State Surcharge (for rides that begin or end in Manhattan).      -\n",
      "$1.00 Improvement Surcharge.      - $2.50 rush hour surcharge (weekdays 4 PM to\n",
      "8 PM).      - $0.50 overnight surcharge (8 PM to 6 AM).      - $1.00 for each\n",
      "additional passenger after the first (though this is often not enforced).    -\n",
      "**Uber/Lyft:**      - Booking fee or service fee (typically around $2.00 to\n",
      "$3.00).      - Tolls and taxes are added to the fare.      - No additional\n",
      "surcharges for rush hour or overnight, but dynamic pricing can effectively act\n",
      "as a surcharge.  ### 5. **Tipping:**    - **Yellow Cabs:** Tipping is customary,\n",
      "usually around 15-20% of the fare.    - **Uber/Lyft:** Tipping is optional but\n",
      "encouraged. You can tip through the app, typically around 15-20% of the fare.\n",
      "### 6. **Wait Time:**    - **Yellow Cabs:** You pay for wait time at $0.50 per\n",
      "minute.    - **Uber/Lyft:** Wait time is also charged, but the rate varies\n",
      "depending on the service type and demand.  ### 7. **Airport Trips:**    -\n",
      "**Yellow Cabs:** Flat fares are available for trips between Manhattan and JFK\n",
      "Airport ($52.00, not including tolls and tips).    - **Uber/Lyft:** Fares to\n",
      "airports are subject to standard rates and dynamic pricing, which can sometimes\n",
      "be higher than yellow cab flat rates, especially during peak times.  ###\n",
      "Summary: - **Yellow Cabs** generally have more predictable pricing, especially\n",
      "during peak times when Uber/Lyft may have surge pricing. - **Uber/Lyft** can be\n",
      "cheaper during off-peak times or when there is no surge pricing, but during\n",
      "high-demand periods, they can become significantly more expensive than yellow\n",
      "cabs. - The choice between yellow cabs and Uber/Lyft often depends on the time\n",
      "of day, demand, and personal preference for convenience and service type. \n",
      "\n"
     ]
    },
    {
     "name": "stdin",
     "output_type": "stream",
     "text": [
      "\n",
      "🚖 Ask DeepSeek AI about NYC Taxis (or type 'exit' to quit):  Show me trends in taxi fares over time\n"
     ]
    },
    {
     "name": "stdout",
     "output_type": "stream",
     "text": [
      "\n",
      "🔹 DeepSeek AI Response:\n",
      "\n",
      "📌 To analyze trends in taxi fares over time using NYC taxi data, we can look at\n",
      "historical fare data, which typically includes metrics like total fare amount,\n",
      "tolls, tips, and other surcharges. Here's how we can approach this:  ### 1.\n",
      "**Data Sources**    - NYC Taxi & Limousine Commission (TLC) provides publicly\n",
      "available datasets for yellow and green taxis, including trip records with fare\n",
      "details.    - Key columns: `tpep_pickup_datetime`, `total_amount`,\n",
      "`fare_amount`, `tip_amount`, `tolls_amount`, etc.  ### 2. **Trends to Explore**\n",
      "- **Average fare amounts over time**: Calculate the average fare per month or\n",
      "year.    - **Impact of external factors**: Events like fuel price changes,\n",
      "inflation, or policy changes (e.g., congestion pricing) may affect fares.    -\n",
      "**Seasonal trends**: Fares may vary by season due to demand fluctuations.    -\n",
      "**Tipping trends**: Analyze how tipping behavior has changed over time.  ### 3.\n",
      "**Example Analysis**    Below is a hypothetical example of how fare trends might\n",
      "look over time:     | Year | Average Fare ($) | Average Tip ($) | Notes\n",
      "|\n",
      "|------|------------------|-----------------|--------------------------------|\n",
      "| 2015 | 15.50            | 2.20            | Stable fares, moderate tipping |\n",
      "| 2016 | 16.00            | 2.50            | Slight increase due to demand  |\n",
      "| 2017 | 16.80            | 2.80            | Fuel price increase            |\n",
      "| 2018 | 17.50            | 3.00            | Congestion pricing introduced  |\n",
      "| 2019 | 18.20            | 3.20            | Continued fare growth          |\n",
      "| 2020 | 15.00            | 2.00            | COVID-19 impact, reduced trips |\n",
      "| 2021 | 16.50            | 2.50            | Recovery phase                 |\n",
      "| 2022 | 18.00            | 3.00            | Post-pandemic surge            |\n",
      "### 4. **Visualization**    - A line chart showing average fare amounts over\n",
      "time would clearly illustrate trends.    - A stacked bar chart could show the\n",
      "breakdown of fare components (base fare, tips, tolls).  ### 5. **Key Insights**\n",
      "- Fares generally increase over time due to inflation and operational costs.\n",
      "- External events (e.g., COVID-19) can cause significant deviations.    -\n",
      "Tipping behavior often correlates with fare amounts.  If you have access to\n",
      "specific datasets, I can help you analyze them further! Let me know if you'd\n",
      "like to dive deeper into any aspect. \n",
      "\n"
     ]
    },
    {
     "name": "stdin",
     "output_type": "stream",
     "text": [
      "\n",
      "🚖 Ask DeepSeek AI about NYC Taxis (or type 'exit' to quit):  exit\n"
     ]
    },
    {
     "name": "stdout",
     "output_type": "stream",
     "text": [
      "👋 Goodbye!\n"
     ]
    }
   ],
   "source": [
    "import textwrap\n",
    "\n",
    "def ask_deepseek(question):\n",
    "    headers = {\n",
    "        \"Authorization\": f\"Bearer {API_KEY}\",\n",
    "        \"Content-Type\": \"application/json\"\n",
    "    }\n",
    "    \n",
    "    data = {\n",
    "        \"model\": \"deepseek-chat\",\n",
    "        \"messages\": [\n",
    "            {\"role\": \"system\", \"content\": \"You are an AI assistant trained to provide insights on NYC taxi data.\"},\n",
    "            {\"role\": \"user\", \"content\": question}\n",
    "        ]\n",
    "    }\n",
    "\n",
    "    response = requests.post(url, headers=headers, json=data)\n",
    "    \n",
    "    if response.status_code == 200:\n",
    "        answer = response.json()[\"choices\"][0][\"message\"][\"content\"]\n",
    "        formatted_answer = textwrap.fill(answer, width=80)  # Format text output for better readability\n",
    "        return formatted_answer\n",
    "    else:\n",
    "        return f\"Error: {response.json()}\"\n",
    "\n",
    "# 🚖 Interactive Mode: Let Users Ask Questions\n",
    "while True:\n",
    "    user_query = input(\"\\n🚖 Ask DeepSeek AI about NYC Taxis (or type 'exit' to quit): \")\n",
    "    if user_query.lower() in [\"exit\", \"quit\"]:\n",
    "        print(\"👋 Goodbye!\")\n",
    "        break\n",
    "    \n",
    "    response = ask_deepseek(user_query)\n",
    "    print(\"\\n🔹 DeepSeek AI Response:\\n\")\n",
    "    print(\"📌\", response, \"\\n\")\n"
   ]
  },
  {
   "cell_type": "code",
   "execution_count": 2,
   "id": "fdfdd566-2425-4bae-a931-fdc87cbf9fe4",
   "metadata": {},
   "outputs": [
    {
     "name": "stdout",
     "output_type": "stream",
     "text": [
      "✅ Found 91 Parquet files.\n",
      "['/Users/chonnipha/Desktop/3rd year second sem/intern/nyc_taxi_project/data/fhvhv_tripdata_2024-12.parquet', '/Users/chonnipha/Desktop/3rd year second sem/intern/nyc_taxi_project/data/fhvhv_tripdata_2024-02.parquet', '/Users/chonnipha/Desktop/3rd year second sem/intern/nyc_taxi_project/data/yellow_tripdata_2023-06.parquet', '/Users/chonnipha/Desktop/3rd year second sem/intern/nyc_taxi_project/data/fhvhv_tripdata_2023-09.parquet', '/Users/chonnipha/Desktop/3rd year second sem/intern/nyc_taxi_project/data/green_tripdata_2023-06.parquet']\n"
     ]
    }
   ],
   "source": [
    "import glob\n",
    "\n",
    "# Check if files are found\n",
    "file_paths = glob.glob(\"/Users/chonnipha/Desktop/3rd year second sem/intern/nyc_taxi_project/data/*.parquet\")  # Ensure this is the correct folder path\n",
    "\n",
    "if len(file_paths) == 0:\n",
    "    print(\"⚠️ No Parquet files found! Check if the folder path is correct.\")\n",
    "else:\n",
    "    print(f\"✅ Found {len(file_paths)} Parquet files.\")\n",
    "    print(file_paths[:5])  # Show the first 5 files\n"
   ]
  },
  {
   "cell_type": "code",
   "execution_count": null,
   "id": "cc5991b4-2d4b-4216-8290-cce76196f6df",
   "metadata": {},
   "outputs": [
    {
     "name": "stdout",
     "output_type": "stream",
     "text": [
      "✅ Found 91 Parquet files.\n",
      "['/Users/chonnipha/Desktop/3rd year second sem/intern/nyc_taxi_project/data/fhvhv_tripdata_2024-12.parquet', '/Users/chonnipha/Desktop/3rd year second sem/intern/nyc_taxi_project/data/fhvhv_tripdata_2024-02.parquet', '/Users/chonnipha/Desktop/3rd year second sem/intern/nyc_taxi_project/data/yellow_tripdata_2023-06.parquet', '/Users/chonnipha/Desktop/3rd year second sem/intern/nyc_taxi_project/data/fhvhv_tripdata_2023-09.parquet', '/Users/chonnipha/Desktop/3rd year second sem/intern/nyc_taxi_project/data/green_tripdata_2023-06.parquet']\n"
     ]
    }
   ],
   "source": [
    "import glob\n",
    "import pandas as pd\n",
    "\n",
    "# Define the path to the Parquet files\n",
    "file_paths = glob.glob(\"/Users/chonnipha/Desktop/3rd year second sem/intern/nyc_taxi_project/data/*.parquet\")\n",
    "\n",
    "# Check if files are found\n",
    "if len(file_paths) == 0:\n",
    "    print(\"⚠️ No Parquet files found! Check if the folder path is correct.\")\n",
    "else:\n",
    "    print(f\"✅ Found {len(file_paths)} Parquet files.\")\n",
    "    print(file_paths[:5])  # Show the first 5 file paths for verification\n",
    "\n",
    "# Initialize an empty list to store DataFrames\n",
    "df_list = []\n",
    "\n",
    "# Load each Parquet file and append to the list\n",
    "for file in file_paths:\n",
    "    try:\n",
    "        df = pd.read_parquet(file, engine=\"pyarrow\")  # or engine=\"fastparquet\" if needed\n",
    "        df_list.append(df)\n",
    "    except Exception as e:\n",
    "        print(f\"⚠️ Skipping {file} due to error: {e}\")\n",
    "\n",
    "# Merge DataFrames if any files were successfully loaded\n",
    "if df_list:\n",
    "    full_df = pd.concat(df_list, ignore_index=True)\n",
    "    print(\"✅ Successfully merged all Parquet files!\")\n",
    "    print(full_df.info())  # Display dataset info\n",
    "else:\n",
    "    print(\"⚠️ No valid Parquet files to merge.\")\n"
   ]
  },
  {
   "cell_type": "code",
   "execution_count": 3,
   "id": "f5792926-ad5f-4f95-bc19-4e44a25b2c74",
   "metadata": {},
   "outputs": [
    {
     "name": "stdout",
     "output_type": "stream",
     "text": [
      "Collecting dask[complete]\n",
      "  Downloading dask-2025.2.0-py3-none-any.whl.metadata (3.8 kB)\n",
      "Collecting click>=8.1 (from dask[complete])\n",
      "  Downloading click-8.1.8-py3-none-any.whl.metadata (2.3 kB)\n",
      "Collecting cloudpickle>=3.0.0 (from dask[complete])\n",
      "  Downloading cloudpickle-3.1.1-py3-none-any.whl.metadata (7.1 kB)\n",
      "Requirement already satisfied: fsspec>=2021.09.0 in /Users/chonnipha/miniconda3/lib/python3.12/site-packages (from dask[complete]) (2025.2.0)\n",
      "Requirement already satisfied: packaging>=20.0 in /Users/chonnipha/miniconda3/lib/python3.12/site-packages (from dask[complete]) (24.1)\n",
      "Collecting partd>=1.4.0 (from dask[complete])\n",
      "  Downloading partd-1.4.2-py3-none-any.whl.metadata (4.6 kB)\n",
      "Requirement already satisfied: pyyaml>=5.3.1 in /Users/chonnipha/miniconda3/lib/python3.12/site-packages (from dask[complete]) (6.0.2)\n",
      "Collecting toolz>=0.10.0 (from dask[complete])\n",
      "  Downloading toolz-1.0.0-py3-none-any.whl.metadata (5.1 kB)\n",
      "Requirement already satisfied: pyarrow>=14.0.1 in /Users/chonnipha/miniconda3/lib/python3.12/site-packages (from dask[complete]) (19.0.1)\n",
      "Collecting lz4>=4.3.2 (from dask[complete])\n",
      "  Downloading lz4-4.4.3-cp312-cp312-macosx_11_0_arm64.whl.metadata (3.8 kB)\n",
      "Collecting locket (from partd>=1.4.0->dask[complete])\n",
      "  Downloading locket-1.0.0-py2.py3-none-any.whl.metadata (2.8 kB)\n",
      "Requirement already satisfied: numpy>=1.24 in /Users/chonnipha/miniconda3/lib/python3.12/site-packages (from dask[complete]) (2.1.3)\n",
      "Requirement already satisfied: pandas>=2.0 in /Users/chonnipha/miniconda3/lib/python3.12/site-packages (from dask[complete]) (2.2.3)\n",
      "Collecting distributed==2025.2.0 (from dask[complete])\n",
      "  Downloading distributed-2025.2.0-py3-none-any.whl.metadata (3.3 kB)\n",
      "Collecting bokeh>=3.1.0 (from dask[complete])\n",
      "  Downloading bokeh-3.7.0-py3-none-any.whl.metadata (12 kB)\n",
      "Requirement already satisfied: jinja2>=2.10.3 in /Users/chonnipha/miniconda3/lib/python3.12/site-packages (from dask[complete]) (3.1.4)\n",
      "Collecting msgpack>=1.0.2 (from distributed==2025.2.0->dask[complete])\n",
      "  Downloading msgpack-1.1.0-cp312-cp312-macosx_11_0_arm64.whl.metadata (8.4 kB)\n",
      "Requirement already satisfied: psutil>=5.8.0 in /Users/chonnipha/miniconda3/lib/python3.12/site-packages (from distributed==2025.2.0->dask[complete]) (5.9.0)\n",
      "Collecting sortedcontainers>=2.0.5 (from distributed==2025.2.0->dask[complete])\n",
      "  Downloading sortedcontainers-2.4.0-py2.py3-none-any.whl.metadata (10 kB)\n",
      "Collecting tblib>=1.6.0 (from distributed==2025.2.0->dask[complete])\n",
      "  Downloading tblib-3.0.0-py3-none-any.whl.metadata (25 kB)\n",
      "Requirement already satisfied: tornado>=6.2.0 in /Users/chonnipha/miniconda3/lib/python3.12/site-packages (from distributed==2025.2.0->dask[complete]) (6.4.2)\n",
      "Requirement already satisfied: urllib3>=1.26.5 in /Users/chonnipha/miniconda3/lib/python3.12/site-packages (from distributed==2025.2.0->dask[complete]) (2.2.3)\n",
      "Collecting zict>=3.0.0 (from distributed==2025.2.0->dask[complete])\n",
      "  Downloading zict-3.0.0-py2.py3-none-any.whl.metadata (899 bytes)\n",
      "Requirement already satisfied: contourpy>=1.2 in /Users/chonnipha/miniconda3/lib/python3.12/site-packages (from bokeh>=3.1.0->dask[complete]) (1.3.1)\n",
      "Collecting narwhals>=1.13 (from bokeh>=3.1.0->dask[complete])\n",
      "  Downloading narwhals-1.30.0-py3-none-any.whl.metadata (11 kB)\n",
      "Requirement already satisfied: pillow>=7.1.0 in /Users/chonnipha/miniconda3/lib/python3.12/site-packages (from bokeh>=3.1.0->dask[complete]) (11.0.0)\n",
      "Requirement already satisfied: xyzservices>=2021.09.1 in /Users/chonnipha/miniconda3/lib/python3.12/site-packages (from bokeh>=3.1.0->dask[complete]) (2025.1.0)\n",
      "Requirement already satisfied: MarkupSafe>=2.0 in /Users/chonnipha/miniconda3/lib/python3.12/site-packages (from jinja2>=2.10.3->dask[complete]) (2.1.3)\n",
      "Requirement already satisfied: python-dateutil>=2.8.2 in /Users/chonnipha/miniconda3/lib/python3.12/site-packages (from pandas>=2.0->dask[complete]) (2.9.0.post0)\n",
      "Requirement already satisfied: pytz>=2020.1 in /Users/chonnipha/miniconda3/lib/python3.12/site-packages (from pandas>=2.0->dask[complete]) (2024.1)\n",
      "Requirement already satisfied: tzdata>=2022.7 in /Users/chonnipha/miniconda3/lib/python3.12/site-packages (from pandas>=2.0->dask[complete]) (2025.1)\n",
      "Requirement already satisfied: six>=1.5 in /Users/chonnipha/miniconda3/lib/python3.12/site-packages (from python-dateutil>=2.8.2->pandas>=2.0->dask[complete]) (1.16.0)\n",
      "Downloading click-8.1.8-py3-none-any.whl (98 kB)\n",
      "Downloading cloudpickle-3.1.1-py3-none-any.whl (20 kB)\n",
      "Downloading lz4-4.4.3-cp312-cp312-macosx_11_0_arm64.whl (189 kB)\n",
      "Downloading partd-1.4.2-py3-none-any.whl (18 kB)\n",
      "Downloading toolz-1.0.0-py3-none-any.whl (56 kB)\n",
      "Downloading dask-2025.2.0-py3-none-any.whl (1.4 MB)\n",
      "\u001b[2K   \u001b[90m━━━━━━━━━━━━━━━━━━━━━━━━━━━━━━━━━━━━━━━━\u001b[0m \u001b[32m1.4/1.4 MB\u001b[0m \u001b[31m140.4 kB/s\u001b[0m eta \u001b[36m0:00:00\u001b[0ma \u001b[36m0:00:01\u001b[0m\n",
      "Downloading distributed-2025.2.0-py3-none-any.whl (1.0 MB)\n",
      "\u001b[2K   \u001b[90m━━━━━━━━━━━━━━━━━━━━━━━━━━━━━━━━━━━━━━━━\u001b[0m \u001b[32m1.0/1.0 MB\u001b[0m \u001b[31m118.4 kB/s\u001b[0m eta \u001b[36m0:00:00\u001b[0ma \u001b[36m0:00:03\u001b[0m\n",
      "Downloading bokeh-3.7.0-py3-none-any.whl (7.0 MB)\n",
      "\u001b[2K   \u001b[90m━━━━━━━━━━━━━━━━━━━━━━━━━━━━━━━━━━━━━━━━\u001b[0m \u001b[32m7.0/7.0 MB\u001b[0m \u001b[31m225.6 kB/s\u001b[0m eta \u001b[36m0:00:00\u001b[0ma \u001b[36m0:00:01\u001b[0m\n",
      "Downloading locket-1.0.0-py2.py3-none-any.whl (4.4 kB)\n",
      "Downloading msgpack-1.1.0-cp312-cp312-macosx_11_0_arm64.whl (82 kB)\n",
      "Downloading narwhals-1.30.0-py3-none-any.whl (313 kB)\n",
      "Downloading sortedcontainers-2.4.0-py2.py3-none-any.whl (29 kB)\n",
      "Downloading tblib-3.0.0-py3-none-any.whl (12 kB)\n",
      "Downloading zict-3.0.0-py2.py3-none-any.whl (43 kB)\n",
      "Installing collected packages: sortedcontainers, zict, toolz, tblib, narwhals, msgpack, lz4, locket, cloudpickle, click, partd, dask, bokeh, distributed\n",
      "Successfully installed bokeh-3.7.0 click-8.1.8 cloudpickle-3.1.1 dask-2025.2.0 distributed-2025.2.0 locket-1.0.0 lz4-4.4.3 msgpack-1.1.0 narwhals-1.30.0 partd-1.4.2 sortedcontainers-2.4.0 tblib-3.0.0 toolz-1.0.0 zict-3.0.0\n"
     ]
    }
   ],
   "source": [
    "!pip install \"dask[complete]\"\n",
    "\n"
   ]
  },
  {
   "cell_type": "code",
   "execution_count": 5,
   "id": "31d82a62-7171-462a-b62d-5a401d5ff908",
   "metadata": {},
   "outputs": [
    {
     "name": "stdout",
     "output_type": "stream",
     "text": [
      "Index(['dispatching_base_num', 'pickup_datetime', 'dropOff_datetime',\n",
      "       'PUlocationID', 'DOlocationID', 'SR_Flag', 'Affiliated_base_number'],\n",
      "      dtype='object')\n"
     ]
    }
   ],
   "source": [
    "import dask.dataframe as dd\n",
    "\n",
    "# Define the path to your files\n",
    "path = '/Users/chonnipha/Desktop/3rd year second sem/intern/nyc_taxi_project/data/*.parquet'  # Adjust path as necessary\n",
    "\n",
    "# Read the data with Dask\n",
    "ddf = dd.read_parquet(path, engine='pyarrow')\n",
    "\n",
    "# Print the columns to see what's available\n",
    "print(ddf.columns)\n"
   ]
  },
  {
   "cell_type": "code",
   "execution_count": 11,
   "id": "f72184b8-245c-4882-91ad-ede4392e37dc",
   "metadata": {},
   "outputs": [
    {
     "name": "stdout",
     "output_type": "stream",
     "text": [
      "Index(['dispatching_base_num', 'pickup_datetime', 'dropOff_datetime',\n",
      "       'PUlocationID', 'DOlocationID', 'SR_Flag', 'Affiliated_base_number'],\n",
      "      dtype='object')\n"
     ]
    }
   ],
   "source": [
    "print(ddf.columns)\n",
    "\n"
   ]
  },
  {
   "cell_type": "code",
   "execution_count": 14,
   "id": "c9d004d2-1dc7-4509-9a33-8c9d1db0b282",
   "metadata": {},
   "outputs": [
    {
     "name": "stdout",
     "output_type": "stream",
     "text": [
      "Cloning into 'nyc-taxi-chatbot'...\n",
      "remote: Enumerating objects: 12, done.\u001b[K\n",
      "remote: Counting objects: 100% (12/12), done.\u001b[K\n",
      "remote: Compressing objects: 100% (10/10), done.\u001b[K\n",
      "remote: Total 12 (delta 1), reused 8 (delta 0), pack-reused 0 (from 0)\u001b[K\n",
      "Receiving objects: 100% (12/12), done.\n",
      "Resolving deltas: 100% (1/1), done.\n"
     ]
    }
   ],
   "source": [
    "!git clone https://github.com/NewbieProgrammer69/nyc-taxi-chatbot\n",
    "!cd nyc-taxi-chatbot\n",
    "\n"
   ]
  },
  {
   "cell_type": "code",
   "execution_count": null,
   "id": "bca364e0-a54e-407c-8147-7350db89ff80",
   "metadata": {},
   "outputs": [],
   "source": []
  }
 ],
 "metadata": {
  "kernelspec": {
   "display_name": "Python 3 (ipykernel)",
   "language": "python",
   "name": "python3"
  },
  "language_info": {
   "codemirror_mode": {
    "name": "ipython",
    "version": 3
   },
   "file_extension": ".py",
   "mimetype": "text/x-python",
   "name": "python",
   "nbconvert_exporter": "python",
   "pygments_lexer": "ipython3",
   "version": "3.12.7"
  }
 },
 "nbformat": 4,
 "nbformat_minor": 5
}
